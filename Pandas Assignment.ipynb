{
 "cells": [
  {
   "cell_type": "markdown",
   "id": "473f85e2",
   "metadata": {},
   "source": [
    "### Q1. How do you load a CSV file into a Pandas DataFrame?\n",
    "Ans: by the help of \"pd.read_csv(filepath)\"."
   ]
  },
  {
   "cell_type": "markdown",
   "id": "46b50817",
   "metadata": {},
   "source": [
    "### Q2. How do you check the data type of a column in a Pandas DataFrame?\n",
    "Ans: by the syntex of df = pd.read_csv(filepath)\n",
    "     df.info() will return all columns name and data type respectively."
   ]
  },
  {
   "cell_type": "markdown",
   "id": "33fc7892",
   "metadata": {},
   "source": [
    "### Q3. How do you select rows from a Pandas DataFrame based on a condition?\n",
    "Ans: by using head() inbuilt function\n",
    "    ex: df[[\"salary\" > 100000]].loc[1:23] only return rows starting from 1 to 22."
   ]
  },
  {
   "cell_type": "markdown",
   "id": "21431642",
   "metadata": {},
   "source": [
    "### Q4. How do you rename columns in a Pandas DataFrame?\n",
    "Ans: df. rename(columns = {'old_col1':'new_col1', 'old_col2':'new_col2'}, inplace = True)"
   ]
  },
  {
   "cell_type": "markdown",
   "id": "f3f4b0b8",
   "metadata": {},
   "source": [
    "### Q5. How do you drop columns in a Pandas DataFrame?\n",
    "Ans: df.drop([\"col1\",\"col2\",\"col3\",...],inplace=True)"
   ]
  },
  {
   "cell_type": "markdown",
   "id": "f5527830",
   "metadata": {},
   "source": [
    "### Q6. How do you find the unique values in a column of a Pandas DataFrame?\n",
    "Ans: df.col_name.unique() method return unique value of given column."
   ]
  },
  {
   "cell_type": "markdown",
   "id": "de0fa8d4",
   "metadata": {},
   "source": [
    "### Q7. How do you find the number of missing values in each column of a Pandas DataFrame?\n",
    "Ans: df.isnull().sum() return all missing values in each column of a pandas dataframe."
   ]
  },
  {
   "cell_type": "markdown",
   "id": "8bda8dc9",
   "metadata": {},
   "source": [
    "### Q8. How do you fill missing values in a Pandas DataFrame with a specific value?\n",
    "Ans: df.fillna(value,inplace=True)"
   ]
  },
  {
   "cell_type": "markdown",
   "id": "f6eec4b9",
   "metadata": {},
   "source": [
    "### Q9. How do you concatenate two Pandas DataFrames?\n",
    "Ans: df3 = pd.concat([df1,df2])"
   ]
  },
  {
   "cell_type": "markdown",
   "id": "0eaf66f1",
   "metadata": {},
   "source": [
    "### Q10. How do you merge two Pandas DataFrames on a specific column?\n",
    "Ans: DataFrame.merge(right, how=’inner’, on=None)"
   ]
  },
  {
   "cell_type": "markdown",
   "id": "7c9ee361",
   "metadata": {},
   "source": [
    "### Q11. How do you group data in a Pandas DataFrame by a specific column and apply an aggregation function?\n",
    "Ans: df.groupby(col_name).sum()"
   ]
  },
  {
   "cell_type": "code",
   "execution_count": 3,
   "id": "526796d8",
   "metadata": {},
   "outputs": [
    {
     "data": {
      "text/html": [
       "<div>\n",
       "<style scoped>\n",
       "    .dataframe tbody tr th:only-of-type {\n",
       "        vertical-align: middle;\n",
       "    }\n",
       "\n",
       "    .dataframe tbody tr th {\n",
       "        vertical-align: top;\n",
       "    }\n",
       "\n",
       "    .dataframe thead th {\n",
       "        text-align: right;\n",
       "    }\n",
       "</style>\n",
       "<table border=\"1\" class=\"dataframe\">\n",
       "  <thead>\n",
       "    <tr style=\"text-align: right;\">\n",
       "      <th></th>\n",
       "      <th>name</th>\n",
       "      <th>age</th>\n",
       "      <th>graduation</th>\n",
       "    </tr>\n",
       "  </thead>\n",
       "  <tbody>\n",
       "    <tr>\n",
       "      <th>0</th>\n",
       "      <td>aman</td>\n",
       "      <td>22</td>\n",
       "      <td>btech</td>\n",
       "    </tr>\n",
       "    <tr>\n",
       "      <th>1</th>\n",
       "      <td>akash</td>\n",
       "      <td>22</td>\n",
       "      <td>btech</td>\n",
       "    </tr>\n",
       "    <tr>\n",
       "      <th>2</th>\n",
       "      <td>himanshu</td>\n",
       "      <td>22</td>\n",
       "      <td>bsc</td>\n",
       "    </tr>\n",
       "  </tbody>\n",
       "</table>\n",
       "</div>"
      ],
      "text/plain": [
       "       name  age graduation\n",
       "0      aman   22      btech\n",
       "1     akash   22      btech\n",
       "2  himanshu   22        bsc"
      ]
     },
     "execution_count": 3,
     "metadata": {},
     "output_type": "execute_result"
    }
   ],
   "source": [
    "# Q12. How do you pivot a Pandas DataFrame?\n",
    "# Ans:\n",
    "\n",
    "import pandas as pd\n",
    "data ={\n",
    "    \"name\":[\"aman\",\"akash\",\"himanshu\"],\n",
    "    \"age\":[22,22,22],\n",
    "    \"graduation\":[\"btech\",\"btech\",\"bsc\"]\n",
    "}\n",
    "\n",
    "df = pd.DataFrame(data)\n",
    "df.head()\n"
   ]
  },
  {
   "cell_type": "code",
   "execution_count": 7,
   "id": "fa9a1951",
   "metadata": {},
   "outputs": [
    {
     "data": {
      "text/html": [
       "<div>\n",
       "<style scoped>\n",
       "    .dataframe tbody tr th:only-of-type {\n",
       "        vertical-align: middle;\n",
       "    }\n",
       "\n",
       "    .dataframe tbody tr th {\n",
       "        vertical-align: top;\n",
       "    }\n",
       "\n",
       "    .dataframe thead th {\n",
       "        text-align: right;\n",
       "    }\n",
       "</style>\n",
       "<table border=\"1\" class=\"dataframe\">\n",
       "  <thead>\n",
       "    <tr style=\"text-align: right;\">\n",
       "      <th>age</th>\n",
       "      <th>22</th>\n",
       "    </tr>\n",
       "    <tr>\n",
       "      <th>name</th>\n",
       "      <th></th>\n",
       "    </tr>\n",
       "  </thead>\n",
       "  <tbody>\n",
       "    <tr>\n",
       "      <th>akash</th>\n",
       "      <td>btech</td>\n",
       "    </tr>\n",
       "    <tr>\n",
       "      <th>aman</th>\n",
       "      <td>btech</td>\n",
       "    </tr>\n",
       "    <tr>\n",
       "      <th>himanshu</th>\n",
       "      <td>bsc</td>\n",
       "    </tr>\n",
       "  </tbody>\n",
       "</table>\n",
       "</div>"
      ],
      "text/plain": [
       "age          22\n",
       "name           \n",
       "akash     btech\n",
       "aman      btech\n",
       "himanshu    bsc"
      ]
     },
     "execution_count": 7,
     "metadata": {},
     "output_type": "execute_result"
    }
   ],
   "source": [
    "df.pivot(\"name\",\"age\",\"graduation\")"
   ]
  },
  {
   "cell_type": "markdown",
   "id": "f82c3aaa",
   "metadata": {},
   "source": [
    "### Q13. How do you change the data type of a column in a Pandas DataFrame?\n",
    "Ans: there are two methods i.e df[col_name] = df.col_name.apply(lambda x : int(x)) and df.astype(int) or df.col_name.astype(str)"
   ]
  },
  {
   "cell_type": "markdown",
   "id": "28389441",
   "metadata": {},
   "source": [
    "### Q14. How do you sort a Pandas DataFrame by a specific column?\n",
    "Ans: df.sort_values(by=[col_name])"
   ]
  },
  {
   "cell_type": "markdown",
   "id": "39a55f3d",
   "metadata": {},
   "source": [
    "### Q15. How do you create a copy of a Pandas DataFrame?\n",
    "Ans: df = pd.DataFrame(data)\n",
    "     new_df = df.copy()"
   ]
  },
  {
   "cell_type": "markdown",
   "id": "c17b1fc6",
   "metadata": {},
   "source": [
    "### Q16. How do you filter rows of a Pandas DataFrame by multiple conditions?\n",
    "Ans: df[[\"col1\" > 2000 and \"col2\" > 400 ]].loc[2:4] "
   ]
  },
  {
   "cell_type": "markdown",
   "id": "b28d0ccb",
   "metadata": {},
   "source": [
    "### Q17. How do you calculate the mean of a column in a Pandas DataFrame?\n",
    "Ans: df.col_name.mean() or df.describe() return all the statistic value of all the columns."
   ]
  },
  {
   "cell_type": "markdown",
   "id": "e1d858cd",
   "metadata": {},
   "source": [
    "### Q18. How do you calculate the standard deviation of a column in a Pandas DataFrame?\n",
    "Ans: df.col_name.std()"
   ]
  },
  {
   "cell_type": "markdown",
   "id": "b84b92c3",
   "metadata": {},
   "source": [
    "### Q19. How do you calculate the correlation between two columns in a Pandas DataFrame?\n",
    "Ans: df.groupby([col1,col2]) and use other aggregate methods on it."
   ]
  },
  {
   "cell_type": "markdown",
   "id": "34cef41c",
   "metadata": {},
   "source": [
    "### Q20. How do you select specific columns in a DataFrame using their labels?\n",
    "Ans: \n",
    "import pandas as pd\n",
    "data ={\n",
    "    \"name\":[\"aman\",\"akash\",\"himanshu\"],\n",
    "    \"age\":[22,22,22],\n",
    "    \"graduation\":[\"btech\",\"btech\",\"bsc\"]\n",
    "}\n",
    "\n",
    "df = pd.DataFrame(data)\n",
    "df.head()\n",
    "\n",
    "new_df = df[\"name\",\"graduation\"] will return a dataframe having columns name and graduation of df dataframe."
   ]
  },
  {
   "cell_type": "markdown",
   "id": "ad904de5",
   "metadata": {},
   "source": [
    "### Q21. How do you select specific rows in a DataFrame using their indexes?\n",
    "Ans: "
   ]
  },
  {
   "cell_type": "code",
   "execution_count": 12,
   "id": "cfc364b1",
   "metadata": {},
   "outputs": [
    {
     "data": {
      "text/html": [
       "<div>\n",
       "<style scoped>\n",
       "    .dataframe tbody tr th:only-of-type {\n",
       "        vertical-align: middle;\n",
       "    }\n",
       "\n",
       "    .dataframe tbody tr th {\n",
       "        vertical-align: top;\n",
       "    }\n",
       "\n",
       "    .dataframe thead th {\n",
       "        text-align: right;\n",
       "    }\n",
       "</style>\n",
       "<table border=\"1\" class=\"dataframe\">\n",
       "  <thead>\n",
       "    <tr style=\"text-align: right;\">\n",
       "      <th></th>\n",
       "      <th>name</th>\n",
       "      <th>age</th>\n",
       "      <th>graduation</th>\n",
       "    </tr>\n",
       "  </thead>\n",
       "  <tbody>\n",
       "    <tr>\n",
       "      <th>0</th>\n",
       "      <td>aman</td>\n",
       "      <td>22</td>\n",
       "      <td>btech</td>\n",
       "    </tr>\n",
       "    <tr>\n",
       "      <th>1</th>\n",
       "      <td>akash</td>\n",
       "      <td>22</td>\n",
       "      <td>btech</td>\n",
       "    </tr>\n",
       "    <tr>\n",
       "      <th>2</th>\n",
       "      <td>himanshu</td>\n",
       "      <td>22</td>\n",
       "      <td>bsc</td>\n",
       "    </tr>\n",
       "  </tbody>\n",
       "</table>\n",
       "</div>"
      ],
      "text/plain": [
       "       name  age graduation\n",
       "0      aman   22      btech\n",
       "1     akash   22      btech\n",
       "2  himanshu   22        bsc"
      ]
     },
     "execution_count": 12,
     "metadata": {},
     "output_type": "execute_result"
    }
   ],
   "source": [
    "import pandas as pd\n",
    "data ={\n",
    "    \"name\":[\"aman\",\"akash\",\"himanshu\"],\n",
    "    \"age\":[22,22,22],\n",
    "    \"graduation\":[\"btech\",\"btech\",\"bsc\"]\n",
    "}\n",
    "\n",
    "df = pd.DataFrame(data)\n",
    "df.head()"
   ]
  },
  {
   "cell_type": "code",
   "execution_count": 16,
   "id": "dc59bb00",
   "metadata": {},
   "outputs": [
    {
     "data": {
      "text/html": [
       "<div>\n",
       "<style scoped>\n",
       "    .dataframe tbody tr th:only-of-type {\n",
       "        vertical-align: middle;\n",
       "    }\n",
       "\n",
       "    .dataframe tbody tr th {\n",
       "        vertical-align: top;\n",
       "    }\n",
       "\n",
       "    .dataframe thead th {\n",
       "        text-align: right;\n",
       "    }\n",
       "</style>\n",
       "<table border=\"1\" class=\"dataframe\">\n",
       "  <thead>\n",
       "    <tr style=\"text-align: right;\">\n",
       "      <th></th>\n",
       "      <th>name</th>\n",
       "      <th>age</th>\n",
       "      <th>graduation</th>\n",
       "    </tr>\n",
       "  </thead>\n",
       "  <tbody>\n",
       "    <tr>\n",
       "      <th>1</th>\n",
       "      <td>akash</td>\n",
       "      <td>22</td>\n",
       "      <td>btech</td>\n",
       "    </tr>\n",
       "  </tbody>\n",
       "</table>\n",
       "</div>"
      ],
      "text/plain": [
       "    name  age graduation\n",
       "1  akash   22      btech"
      ]
     },
     "execution_count": 16,
     "metadata": {},
     "output_type": "execute_result"
    }
   ],
   "source": [
    "df[1:2]"
   ]
  },
  {
   "cell_type": "markdown",
   "id": "1b51fead",
   "metadata": {},
   "source": [
    "### Q22. How do you sort a DataFrame by a specific column?\n",
    "Ans: df.col_name.sort() or df.sort_values(by = [\"col_name\"])"
   ]
  },
  {
   "cell_type": "markdown",
   "id": "1ad65c06",
   "metadata": {},
   "source": [
    "### Q23. How do you create a new column in a DataFrame based on the values of another column?\n",
    "Ans: df.new_col_name = df.old_col_name.apply(lambda var: cond...) "
   ]
  },
  {
   "cell_type": "markdown",
   "id": "ac631a97",
   "metadata": {},
   "source": [
    "### Q24. How do you remove duplicates from a DataFrame?\n",
    "Ans: DataFrame.drop_duplicates(subset=None, keep=’first’, inplace=False)"
   ]
  },
  {
   "cell_type": "markdown",
   "id": "3591cb3b",
   "metadata": {},
   "source": [
    "### Q25. What is the difference between .loc and .iloc in Pandas?\n",
    "Ana: The main difference between pandas loc[] vs iloc[] is loc gets DataFrame rows & columns by labels/names and iloc[] gets by integer Index/position."
   ]
  }
 ],
 "metadata": {
  "kernelspec": {
   "display_name": "Python 3 (ipykernel)",
   "language": "python",
   "name": "python3"
  },
  "language_info": {
   "codemirror_mode": {
    "name": "ipython",
    "version": 3
   },
   "file_extension": ".py",
   "mimetype": "text/x-python",
   "name": "python",
   "nbconvert_exporter": "python",
   "pygments_lexer": "ipython3",
   "version": "3.10.4"
  }
 },
 "nbformat": 4,
 "nbformat_minor": 5
}
