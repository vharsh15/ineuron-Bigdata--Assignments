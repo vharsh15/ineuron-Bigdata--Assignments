{
 "cells": [
  {
   "cell_type": "code",
   "execution_count": 1,
   "id": "5a966050",
   "metadata": {},
   "outputs": [],
   "source": [
    "# Q1. Why do we call Python as a general purpose and high-level programming language?## \n",
    "# Ans.\"Because they are not written in machine-readable language, \n",
    "#      Python programs need to be processed before machines can run them. \n",
    "#      Python is an interpreted language. This means that every time a program is run, \n",
    "#      its interpreter runs through the code and translates it into machine-readable byte code.\""
   ]
  },
  {
   "cell_type": "code",
   "execution_count": 2,
   "id": "06a9ca8f",
   "metadata": {},
   "outputs": [],
   "source": [
    "# Q2. Why is Python called a dynamically typed language?\n",
    "# Ans. \" Dynamic typing means that the type of the variable is determined only during runtime.\""
   ]
  },
  {
   "cell_type": "code",
   "execution_count": 3,
   "id": "df0cfcc2",
   "metadata": {},
   "outputs": [],
   "source": [
    "# Q3. List some pros and cons of Python programming language?\n",
    "# Ans. \"pros:It's Simple, It's Free, It's Easy to Use, It's Highly Compatible, It is Object-Oriented.\"\n",
    "#      \"cons:Poor memory efficiency, Slow speed, Runtime Errors.\""
   ]
  },
  {
   "cell_type": "code",
   "execution_count": 4,
   "id": "afdd7333",
   "metadata": {},
   "outputs": [],
   "source": [
    "# Q4. In what all domains can we use Python?\n",
    "# Ans. \"artificial intelligence, machine learning and deep learning, web development, gaming, gui, etc\""
   ]
  },
  {
   "cell_type": "code",
   "execution_count": 5,
   "id": "d144dfa4",
   "metadata": {},
   "outputs": [],
   "source": [
    "# Q5. What are variable and how can we declare them?\n",
    "# Ans. \"Variables are the labels of specific memory location and it's like containers in our kitchen.\"\n",
    "#      \"start declare by alphabet and underscore only.\""
   ]
  },
  {
   "cell_type": "code",
   "execution_count": 6,
   "id": "fb831fc0",
   "metadata": {},
   "outputs": [],
   "source": [
    "# Q6. How can we take an input from the user in Python?\n",
    "# Ans . \"with the help of input() inbuilt function therefor eg: user_variable = input(\"Enter the value:\")\""
   ]
  },
  {
   "cell_type": "code",
   "execution_count": 7,
   "id": "acf29571",
   "metadata": {},
   "outputs": [],
   "source": [
    "# Q7. What is the default datatype of the value that has been taken as an input using input() function?\n",
    "# Ans. \"The default value that has been taken as an input() is string \""
   ]
  },
  {
   "cell_type": "code",
   "execution_count": 8,
   "id": "56457067",
   "metadata": {},
   "outputs": [],
   "source": [
    "# Q8. What is type casting?\n",
    "# Ans. \" There may be times when you want to specify a type on to a variable. Then we use type casting.\""
   ]
  },
  {
   "cell_type": "code",
   "execution_count": 9,
   "id": "cc1c3f72",
   "metadata": {},
   "outputs": [],
   "source": [
    "# Q9. Can we take more than one input from the user using single input() function? If yes, how? If no, why?\n",
    "# Ans. \"No, it's give an error. One input function can hold only one value\""
   ]
  },
  {
   "cell_type": "code",
   "execution_count": 10,
   "id": "5e5d28cd",
   "metadata": {},
   "outputs": [],
   "source": [
    "#  Q10. What are keywords?\n",
    "#  Ans. \"Keywords are some predefined and reserved words in python that have special meanings.\n",
    "#        Keywords are used to define the syntax of the coding.\""
   ]
  },
  {
   "cell_type": "code",
   "execution_count": 11,
   "id": "44734d7d",
   "metadata": {},
   "outputs": [],
   "source": [
    "#  Q11. Can we use keywords as a variable? Support your answer with reason.\n",
    "#  Ans. \"No, Keywords are used to define the syntax of the coding.\n",
    "#        The keyword cannot be used as an identifier, function, and variable name. \""
   ]
  },
  {
   "cell_type": "code",
   "execution_count": 12,
   "id": "53294ab6",
   "metadata": {},
   "outputs": [],
   "source": [
    "#  Q12. What is indentation? What's the use of indentaion in Python?\n",
    "#  Ans. \"Indentation refers to the spaces at the beginning of a code line.\n",
    "#        Where in other programming languages the indentation in code is for readability only,\n",
    "#        the indentation in Python is very important. Python uses indentation to indicate a block of code.\""
   ]
  },
  {
   "cell_type": "code",
   "execution_count": 13,
   "id": "acacc206",
   "metadata": {},
   "outputs": [],
   "source": [
    "# Q13. How can we throw some output in Python?\n",
    "# Ans. \"with the help of print() inbuilt function.\""
   ]
  },
  {
   "cell_type": "code",
   "execution_count": 14,
   "id": "0bd98ddd",
   "metadata": {},
   "outputs": [],
   "source": [
    "#  Q14. What are operators in Python?\n",
    "#  Ans. \"Operators are the special symbols that designate that some sort of computation should be performed. \n",
    "#        and there are seven different types of operators: arithmetic operators, assignment operators,\n",
    "#        comparison operators, logical operators, identity operators, membership operators, and boolean operators.\""
   ]
  },
  {
   "cell_type": "code",
   "execution_count": 15,
   "id": "775ba3cb",
   "metadata": {},
   "outputs": [],
   "source": [
    "# Q15. What is difference between / and // operators?\n",
    "# Ans. \"/ gives full value with decimals but // only give whole value or cieling value without decimals.\""
   ]
  },
  {
   "cell_type": "code",
   "execution_count": 16,
   "id": "9fb1e42f",
   "metadata": {},
   "outputs": [
    {
     "name": "stdout",
     "output_type": "stream",
     "text": [
      "iNeuroniNeuroniNeuroniNeuron\n"
     ]
    }
   ],
   "source": [
    "# Q-16\n",
    "print(\"iNeuroniNeuroniNeuroniNeuron\")"
   ]
  },
  {
   "cell_type": "code",
   "execution_count": 17,
   "id": "eeba4123",
   "metadata": {},
   "outputs": [
    {
     "name": "stdout",
     "output_type": "stream",
     "text": [
      "Enter a Number:34\n",
      "It is an Even Number\n"
     ]
    }
   ],
   "source": [
    "# Q-17\n",
    "# take a number from user\n",
    "usr_inp = int(input(\"Enter a Number:\"))\n",
    "if usr_inp % 2 == 0:\n",
    "    print(\"It is an Even Number\")\n",
    "else:\n",
    "    print(\"It is an Odd Number\")"
   ]
  },
  {
   "cell_type": "code",
   "execution_count": 18,
   "id": "f25e4753",
   "metadata": {},
   "outputs": [],
   "source": [
    "# Q18. What are boolean operator?\n",
    "# Ans. \"AND , OR , NOT or ANDNOT are the boolean operator.\""
   ]
  },
  {
   "cell_type": "code",
   "execution_count": 19,
   "id": "cee79466",
   "metadata": {},
   "outputs": [],
   "source": [
    "# Q19. What will the output of the following?\n",
    "# 1 or 0 -- Ans. 1\n",
    "\n",
    "# 0 and 0 -- Ans. 0\n",
    "\n",
    "#True and False and True -- Ans. False\n",
    "\n",
    "#1 or 0 or 0 -- Ans. 1\n"
   ]
  },
  {
   "cell_type": "code",
   "execution_count": 20,
   "id": "163c3c36",
   "metadata": {},
   "outputs": [],
   "source": [
    "# Q20. What are conditional statements in Python?\n",
    "# Ans. \"if, if-else, elif, nested if, and nested if-else are the conditional statements.\""
   ]
  },
  {
   "cell_type": "code",
   "execution_count": 21,
   "id": "30d9f489",
   "metadata": {},
   "outputs": [],
   "source": [
    "# Q21. What is use of 'if', 'elif' and 'else' keywords?\n",
    "# Ans. \"it is elif conditional statment where it check all type of possibilities write by user.\""
   ]
  },
  {
   "cell_type": "code",
   "execution_count": 22,
   "id": "c4335675",
   "metadata": {},
   "outputs": [
    {
     "name": "stdout",
     "output_type": "stream",
     "text": [
      "Enter your age:12\n",
      "I can't vote\n"
     ]
    }
   ],
   "source": [
    "# Q-22\n",
    "# code to determine whether given age is eligible for vote or not.\n",
    "usr_age = int(input(\"Enter your age:\"))\n",
    "if usr_age >= 18:\n",
    "    print(\"I can vote\")\n",
    "else:\n",
    "    print(\"I can't vote\")"
   ]
  },
  {
   "cell_type": "code",
   "execution_count": 23,
   "id": "77ac786a",
   "metadata": {},
   "outputs": [
    {
     "name": "stdout",
     "output_type": "stream",
     "text": [
      "Sum of even numbers from given list is:\n",
      "392\n"
     ]
    }
   ],
   "source": [
    "# Q23. Write a code that displays the sum of all the even numbers from the given list.\n",
    "numbers = [12, 75, 150, 180, 145, 525, 50]\n",
    "sum = 0\n",
    "for itr in numbers:\n",
    "    if itr % 2 == 0:\n",
    "        sum += itr\n",
    "print(\"Sum of even numbers from given list is:\")\n",
    "print(sum)"
   ]
  },
  {
   "cell_type": "code",
   "execution_count": 24,
   "id": "2601e132",
   "metadata": {},
   "outputs": [
    {
     "name": "stdout",
     "output_type": "stream",
     "text": [
      "Enter the first number:12\n",
      "Enter the second number:6\n",
      "Enter the third number:34\n",
      "c is gretest\n"
     ]
    }
   ],
   "source": [
    "# Q24. Write a code to take 3 numbers as an input from the user and display the greatest no as output.\n",
    "a = int(input(\"Enter the first number:\"))\n",
    "b = int(input(\"Enter the second number:\"))\n",
    "c = int(input(\"Enter the third number:\"))\n",
    "if a>b:\n",
    "    if a>c:\n",
    "        print(\" a is gretest\")\n",
    "    else:\n",
    "        print(\"c is gretest\")\n",
    "else:\n",
    "    if b>c:\n",
    "        print(\" b is greatest\")\n",
    "    else:\n",
    "        print(\"c is greatest\")"
   ]
  },
  {
   "cell_type": "code",
   "execution_count": 25,
   "id": "95e0b965",
   "metadata": {},
   "outputs": [
    {
     "name": "stdout",
     "output_type": "stream",
     "text": [
      "75\n",
      "150\n",
      "180\n",
      "145\n",
      "525\n",
      "50\n"
     ]
    }
   ],
   "source": [
    "# Q25. Write a program to display only those numbers from a list that satisfy the following conditions\n",
    "\n",
    "# (a)The number must be divisible by five\n",
    "\n",
    "numbers = [12, 75, 150, 180, 145, 525, 50]\n",
    "\n",
    "for itr in numbers:\n",
    "    if itr % 5 == 0:\n",
    "        print(itr)"
   ]
  },
  {
   "cell_type": "code",
   "execution_count": 26,
   "id": "c1da83cb",
   "metadata": {},
   "outputs": [
    {
     "name": "stdout",
     "output_type": "stream",
     "text": [
      "12\n",
      "75\n",
      "150\n",
      "145\n",
      "50\n"
     ]
    }
   ],
   "source": [
    "# (b) If the number is greater than 150, then skip it and move to the next number\n",
    "\n",
    "numbers = [12, 75, 150, 180, 145, 525, 50]\n",
    "\n",
    "for itr in numbers:\n",
    "    if itr > 150 :\n",
    "        continue\n",
    "    print(itr)"
   ]
  },
  {
   "cell_type": "code",
   "execution_count": 27,
   "id": "16246ffc",
   "metadata": {},
   "outputs": [
    {
     "name": "stdout",
     "output_type": "stream",
     "text": [
      "12\n",
      "75\n",
      "150\n",
      "180\n",
      "145\n"
     ]
    }
   ],
   "source": [
    "# (c) If the number is greater than 500, then stop the loop\n",
    "\n",
    "numbers = [12, 75, 150, 180, 145, 525, 50]\n",
    "\n",
    "for itr in numbers:\n",
    "    if itr > 500:\n",
    "        break\n",
    "    print(itr)"
   ]
  }
 ],
 "metadata": {
  "kernelspec": {
   "display_name": "Python 3 (ipykernel)",
   "language": "python",
   "name": "python3"
  },
  "language_info": {
   "codemirror_mode": {
    "name": "ipython",
    "version": 3
   },
   "file_extension": ".py",
   "mimetype": "text/x-python",
   "name": "python",
   "nbconvert_exporter": "python",
   "pygments_lexer": "ipython3",
   "version": "3.10.4"
  }
 },
 "nbformat": 4,
 "nbformat_minor": 5
}
