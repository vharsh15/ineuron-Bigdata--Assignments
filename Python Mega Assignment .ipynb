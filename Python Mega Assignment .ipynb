{
 "cells": [
  {
   "cell_type": "code",
   "execution_count": 1,
   "id": "5a966050",
   "metadata": {},
   "outputs": [],
   "source": [
    "# Q1. Why do we call Python as a general purpose and high-level programming language?## \n",
    "# Ans.\"Because they are not written in machine-readable language, \n",
    "#      Python programs need to be processed before machines can run them. \n",
    "#      Python is an interpreted language. This means that every time a program is run, \n",
    "#      its interpreter runs through the code and translates it into machine-readable byte code.\""
   ]
  },
  {
   "cell_type": "code",
   "execution_count": 2,
   "id": "06a9ca8f",
   "metadata": {},
   "outputs": [],
   "source": [
    "# Q2. Why is Python called a dynamically typed language?\n",
    "# Ans. \" Dynamic typing means that the type of the variable is determined only during runtime.\""
   ]
  },
  {
   "cell_type": "code",
   "execution_count": 3,
   "id": "df0cfcc2",
   "metadata": {},
   "outputs": [],
   "source": [
    "# Q3. List some pros and cons of Python programming language?\n",
    "# Ans. \"pros:It's Simple, It's Free, It's Easy to Use, It's Highly Compatible, It is Object-Oriented.\"\n",
    "#      \"cons:Poor memory efficiency, Slow speed, Runtime Errors.\""
   ]
  },
  {
   "cell_type": "code",
   "execution_count": 4,
   "id": "afdd7333",
   "metadata": {},
   "outputs": [],
   "source": [
    "# Q4. In what all domains can we use Python?\n",
    "# Ans. \"artificial intelligence, machine learning and deep learning, web development, gaming, gui, etc\""
   ]
  },
  {
   "cell_type": "code",
   "execution_count": 5,
   "id": "d144dfa4",
   "metadata": {},
   "outputs": [],
   "source": [
    "# Q5. What are variable and how can we declare them?\n",
    "# Ans. \"Variables are the labels of specific memory location and it's like containers in our kitchen.\"\n",
    "#      \"start declare by alphabet and underscore only.\""
   ]
  },
  {
   "cell_type": "code",
   "execution_count": 6,
   "id": "fb831fc0",
   "metadata": {},
   "outputs": [],
   "source": [
    "# Q6. How can we take an input from the user in Python?\n",
    "# Ans . \"with the help of input() inbuilt function therefor eg: user_variable = input(\"Enter the value:\")\""
   ]
  },
  {
   "cell_type": "code",
   "execution_count": 7,
   "id": "acf29571",
   "metadata": {},
   "outputs": [],
   "source": [
    "# Q7. What is the default datatype of the value that has been taken as an input using input() function?\n",
    "# Ans. \"The default value that has been taken as an input() is string \""
   ]
  },
  {
   "cell_type": "code",
   "execution_count": 8,
   "id": "56457067",
   "metadata": {},
   "outputs": [],
   "source": [
    "# Q8. What is type casting?\n",
    "# Ans. \" There may be times when you want to specify a type on to a variable. Then we use type casting.\""
   ]
  },
  {
   "cell_type": "code",
   "execution_count": 9,
   "id": "cc1c3f72",
   "metadata": {},
   "outputs": [],
   "source": [
    "# Q9. Can we take more than one input from the user using single input() function? If yes, how? If no, why?\n",
    "# Ans. \"No, it's give an error. One input function can hold only one value\""
   ]
  },
  {
   "cell_type": "code",
   "execution_count": 10,
   "id": "5e5d28cd",
   "metadata": {},
   "outputs": [],
   "source": [
    "#  Q10. What are keywords?\n",
    "#  Ans. \"Keywords are some predefined and reserved words in python that have special meanings.\n",
    "#        Keywords are used to define the syntax of the coding.\""
   ]
  },
  {
   "cell_type": "code",
   "execution_count": 11,
   "id": "44734d7d",
   "metadata": {},
   "outputs": [],
   "source": [
    "#  Q11. Can we use keywords as a variable? Support your answer with reason.\n",
    "#  Ans. \"No, Keywords are used to define the syntax of the coding.\n",
    "#        The keyword cannot be used as an identifier, function, and variable name. \""
   ]
  },
  {
   "cell_type": "code",
   "execution_count": 12,
   "id": "53294ab6",
   "metadata": {},
   "outputs": [],
   "source": [
    "#  Q12. What is indentation? What's the use of indentaion in Python?\n",
    "#  Ans. \"Indentation refers to the spaces at the beginning of a code line.\n",
    "#        Where in other programming languages the indentation in code is for readability only,\n",
    "#        the indentation in Python is very important. Python uses indentation to indicate a block of code.\""
   ]
  },
  {
   "cell_type": "code",
   "execution_count": 13,
   "id": "acacc206",
   "metadata": {},
   "outputs": [],
   "source": [
    "# Q13. How can we throw some output in Python?\n",
    "# Ans. \"with the help of print() inbuilt function.\""
   ]
  },
  {
   "cell_type": "code",
   "execution_count": 14,
   "id": "0bd98ddd",
   "metadata": {},
   "outputs": [],
   "source": [
    "#  Q14. What are operators in Python?\n",
    "#  Ans. \"Operators are the special symbols that designate that some sort of computation should be performed. \n",
    "#        and there are seven different types of operators: arithmetic operators, assignment operators,\n",
    "#        comparison operators, logical operators, identity operators, membership operators, and boolean operators.\""
   ]
  },
  {
   "cell_type": "code",
   "execution_count": 15,
   "id": "775ba3cb",
   "metadata": {},
   "outputs": [],
   "source": [
    "# Q15. What is difference between / and // operators?\n",
    "# Ans. \"/ gives full value with decimals but // only give whole value or cieling value without decimals.\""
   ]
  },
  {
   "cell_type": "code",
   "execution_count": 16,
   "id": "9fb1e42f",
   "metadata": {},
   "outputs": [
    {
     "name": "stdout",
     "output_type": "stream",
     "text": [
      "iNeuroniNeuroniNeuroniNeuron\n"
     ]
    }
   ],
   "source": [
    "# Q-16\n",
    "print(\"iNeuroniNeuroniNeuroniNeuron\")"
   ]
  },
  {
   "cell_type": "code",
   "execution_count": 17,
   "id": "eeba4123",
   "metadata": {},
   "outputs": [
    {
     "name": "stdout",
     "output_type": "stream",
     "text": [
      "Enter a Number:34\n",
      "It is an Even Number\n"
     ]
    }
   ],
   "source": [
    "# Q-17\n",
    "# take a number from user\n",
    "usr_inp = int(input(\"Enter a Number:\"))\n",
    "if usr_inp % 2 == 0:\n",
    "    print(\"It is an Even Number\")\n",
    "else:\n",
    "    print(\"It is an Odd Number\")"
   ]
  },
  {
   "cell_type": "code",
   "execution_count": 18,
   "id": "f25e4753",
   "metadata": {},
   "outputs": [],
   "source": [
    "# Q18. What are boolean operator?\n",
    "# Ans. \"AND , OR , NOT or ANDNOT are the boolean operator.\""
   ]
  },
  {
   "cell_type": "code",
   "execution_count": 19,
   "id": "cee79466",
   "metadata": {},
   "outputs": [],
   "source": [
    "# Q19. What will the output of the following?\n",
    "# 1 or 0 -- Ans. 1\n",
    "\n",
    "# 0 and 0 -- Ans. 0\n",
    "\n",
    "#True and False and True -- Ans. False\n",
    "\n",
    "#1 or 0 or 0 -- Ans. 1\n"
   ]
  },
  {
   "cell_type": "code",
   "execution_count": 20,
   "id": "163c3c36",
   "metadata": {},
   "outputs": [],
   "source": [
    "# Q20. What are conditional statements in Python?\n",
    "# Ans. \"if, if-else, elif, nested if, and nested if-else are the conditional statements.\""
   ]
  },
  {
   "cell_type": "code",
   "execution_count": 21,
   "id": "30d9f489",
   "metadata": {},
   "outputs": [],
   "source": [
    "# Q21. What is use of 'if', 'elif' and 'else' keywords?\n",
    "# Ans. \"it is elif conditional statment where it check all type of possibilities write by user.\""
   ]
  },
  {
   "cell_type": "code",
   "execution_count": 22,
   "id": "c4335675",
   "metadata": {},
   "outputs": [
    {
     "name": "stdout",
     "output_type": "stream",
     "text": [
      "Enter your age:22\n",
      "I can vote\n"
     ]
    }
   ],
   "source": [
    "# Q-22\n",
    "# code to determine whether given age is eligible for vote or not.\n",
    "usr_age = int(input(\"Enter your age:\"))\n",
    "if usr_age >= 18:\n",
    "    print(\"I can vote\")\n",
    "else:\n",
    "    print(\"I can't vote\")"
   ]
  },
  {
   "cell_type": "code",
   "execution_count": 23,
   "id": "77ac786a",
   "metadata": {},
   "outputs": [
    {
     "name": "stdout",
     "output_type": "stream",
     "text": [
      "Sum of even numbers from given list is:\n",
      "392\n"
     ]
    }
   ],
   "source": [
    "# Q23. Write a code that displays the sum of all the even numbers from the given list.\n",
    "numbers = [12, 75, 150, 180, 145, 525, 50]\n",
    "sum = 0\n",
    "for itr in numbers:\n",
    "    if itr % 2 == 0:\n",
    "        sum += itr\n",
    "print(\"Sum of even numbers from given list is:\")\n",
    "print(sum)"
   ]
  },
  {
   "cell_type": "code",
   "execution_count": 24,
   "id": "2601e132",
   "metadata": {},
   "outputs": [
    {
     "name": "stdout",
     "output_type": "stream",
     "text": [
      "Enter the first number:23\n",
      "Enter the second number:23\n",
      "Enter the third number:12\n",
      " b is greatest\n"
     ]
    }
   ],
   "source": [
    "# Q24. Write a code to take 3 numbers as an input from the user and display the greatest no as output.\n",
    "a = int(input(\"Enter the first number:\"))\n",
    "b = int(input(\"Enter the second number:\"))\n",
    "c = int(input(\"Enter the third number:\"))\n",
    "if a>b:\n",
    "    if a>c:\n",
    "        print(\" a is gretest\")\n",
    "    else:\n",
    "        print(\"c is gretest\")\n",
    "else:\n",
    "    if b>c:\n",
    "        print(\" b is greatest\")\n",
    "    else:\n",
    "        print(\"c is greatest\")"
   ]
  },
  {
   "cell_type": "code",
   "execution_count": 25,
   "id": "95e0b965",
   "metadata": {},
   "outputs": [
    {
     "name": "stdout",
     "output_type": "stream",
     "text": [
      "75\n",
      "150\n",
      "180\n",
      "145\n",
      "525\n",
      "50\n"
     ]
    }
   ],
   "source": [
    "# Q25. Write a program to display only those numbers from a list that satisfy the following conditions\n",
    "\n",
    "# (a)The number must be divisible by five\n",
    "\n",
    "numbers = [12, 75, 150, 180, 145, 525, 50]\n",
    "\n",
    "for itr in numbers:\n",
    "    if itr % 5 == 0:\n",
    "        print(itr)"
   ]
  },
  {
   "cell_type": "code",
   "execution_count": 26,
   "id": "c1da83cb",
   "metadata": {},
   "outputs": [
    {
     "name": "stdout",
     "output_type": "stream",
     "text": [
      "12\n",
      "75\n",
      "150\n",
      "145\n",
      "50\n"
     ]
    }
   ],
   "source": [
    "# (b) If the number is greater than 150, then skip it and move to the next number\n",
    "\n",
    "numbers = [12, 75, 150, 180, 145, 525, 50]\n",
    "\n",
    "for itr in numbers:\n",
    "    if itr > 150 :\n",
    "        continue\n",
    "    print(itr)"
   ]
  },
  {
   "cell_type": "code",
   "execution_count": 27,
   "id": "16246ffc",
   "metadata": {},
   "outputs": [
    {
     "name": "stdout",
     "output_type": "stream",
     "text": [
      "12\n",
      "75\n",
      "150\n",
      "180\n",
      "145\n"
     ]
    }
   ],
   "source": [
    "# (c) If the number is greater than 500, then stop the loop\n",
    "\n",
    "numbers = [12, 75, 150, 180, 145, 525, 50]\n",
    "\n",
    "for itr in numbers:\n",
    "    if itr > 500:\n",
    "        break\n",
    "    print(itr)"
   ]
  },
  {
   "cell_type": "code",
   "execution_count": 28,
   "id": "c82f1488",
   "metadata": {},
   "outputs": [],
   "source": [
    "# Q26. What is a string? How can we declare string in Python?\n",
    "# Ans: String is a alphabet and collection of alphabets inclosed by the single or double quotes.\n",
    "#      with the help of single or double quotes."
   ]
  },
  {
   "cell_type": "code",
   "execution_count": 29,
   "id": "43d8d1d7",
   "metadata": {},
   "outputs": [],
   "source": [
    "# Q27. How can we access the string using its index?\n",
    "# Ans: With the help of \"for\" loop ex:\n",
    "#         var = \"Aman Yadav\"\n",
    "#         for i in range(len(var)):\n",
    "#             print(i,end=\"\")"
   ]
  },
  {
   "cell_type": "code",
   "execution_count": 30,
   "id": "7728782a",
   "metadata": {},
   "outputs": [
    {
     "name": "stdout",
     "output_type": "stream",
     "text": [
      "iNeuron\n"
     ]
    }
   ],
   "source": [
    "# Q28. Write a code to get the desired output of the following\n",
    "\n",
    "# string = \"Big Data iNeuron\"\n",
    "# desired_output = \"iNeuron\"\n",
    "\n",
    "# Ans: \n",
    "string = \"Big Data iNeuron\"\n",
    "if \"iNeuron\" in string:\n",
    "    print(\"iNeuron\")\n",
    "else:\n",
    "    print(\"'iNeuron' is not present in given string.\")\n",
    "\n"
   ]
  },
  {
   "cell_type": "code",
   "execution_count": 31,
   "id": "d18a592a",
   "metadata": {},
   "outputs": [
    {
     "name": "stdout",
     "output_type": "stream",
     "text": [
      "norueNi\n"
     ]
    }
   ],
   "source": [
    "# Q29. Write a code to get the desired output of the following\n",
    "\n",
    "# string = \"Big Data iNeuron\"\n",
    "# desired_output = \"norueNi\"\n",
    "\n",
    "# Ans:\n",
    "\n",
    "string = \"Big Data iNeuron\"\n",
    "target = \"iNeuron\"\n",
    "if target in string:\n",
    "    print(target[::-1])\n",
    "else:\n",
    "    print(target[::-1],\"is not present in given string\")"
   ]
  },
  {
   "cell_type": "code",
   "execution_count": 32,
   "id": "69129bfc",
   "metadata": {},
   "outputs": [
    {
     "name": "stdout",
     "output_type": "stream",
     "text": [
      "norueNi ataD giB\n"
     ]
    }
   ],
   "source": [
    "# Q30. Resverse the string given in the above question.\n",
    "# Ans:\n",
    "given_string = \"Big Data iNeuron\"\n",
    "reverse_string = \"\"\n",
    "for itr in range(len(given_string)-1,-1,-1):\n",
    "    reverse_string += given_string[itr]\n",
    "print(reverse_string)"
   ]
  },
  {
   "cell_type": "code",
   "execution_count": 77,
   "id": "c3270176",
   "metadata": {},
   "outputs": [
    {
     "name": "stdout",
     "output_type": "stream",
     "text": [
      "String befor delete is: Setbacks are important in life.\n",
      "Error is: name 'given_string' is not defined\n"
     ]
    }
   ],
   "source": [
    "# Q31. How can you delete entire string at once?\n",
    "# Ans:\n",
    "try:\n",
    "    given_string = \"Setbacks are important in life.\"\n",
    "    print(\"String befor delete is:\",given_string)\n",
    "\n",
    "    del(given_string)\n",
    "    print(\"String after delete is:\",given_string)\n",
    "except Exception as e:\n",
    "    print(\"Error is:\",e)\n",
    "    "
   ]
  },
  {
   "cell_type": "code",
   "execution_count": null,
   "id": "415ad387",
   "metadata": {},
   "outputs": [],
   "source": [
    "# Q32. What is escape sequence?\n",
    "# Ans: An escape sequence is a sequence of characters that, when used inside a character or string, does not represent itself but is converted into another character\n",
    "# or series of characters"
   ]
  },
  {
   "cell_type": "code",
   "execution_count": null,
   "id": "25c45f8a",
   "metadata": {},
   "outputs": [],
   "source": [
    "# Q33. How can you print the below string?\n",
    "\n",
    "# 'iNeuron's Big Data Course'\n",
    "\n",
    "# Ans:\n",
    "\n",
    "print('iNeuron\\'s Big Data Course')"
   ]
  },
  {
   "cell_type": "code",
   "execution_count": null,
   "id": "249ff42b",
   "metadata": {},
   "outputs": [],
   "source": [
    "# Q34. What is a list in Python?\n",
    "# Ans: List is array which can store any type of data i.e string, integer, float, boolean."
   ]
  },
  {
   "cell_type": "code",
   "execution_count": null,
   "id": "f1f62fc3",
   "metadata": {},
   "outputs": [],
   "source": [
    "# Q35. How can you create a list in Python?\n",
    "# Ans: 1. with the help of inbuilt object var = list()\n",
    "#     2. and var = []"
   ]
  },
  {
   "cell_type": "code",
   "execution_count": null,
   "id": "59371ca4",
   "metadata": {},
   "outputs": [],
   "source": [
    "# Q36. How can we access the elements in a list?\n",
    "# Ans: Elements of list can easily access by it's index or position."
   ]
  },
  {
   "cell_type": "code",
   "execution_count": 34,
   "id": "d7f171c6",
   "metadata": {},
   "outputs": [],
   "source": [
    "# Q37. Write a code to access the word \"iNeuron\" from the given list.\n",
    "\n",
    "# lst = [1,2,3,\"Hi\",[45,54, \"iNeuron\"], \"Big Data\"]\n",
    "\n",
    "# Ans: \n",
    "\n",
    "Lst = [1,2,3,\"Hi\",[45,54, \"iNeuron\"], \"Big Data\"]\n",
    "if \"iNeuron\" in Lst:\n",
    "    print(\"iNeuron\")"
   ]
  },
  {
   "cell_type": "code",
   "execution_count": 35,
   "id": "d2a1d981",
   "metadata": {},
   "outputs": [],
   "source": [
    "# Q38. Take a list as an input from the user and find the length of the list.\n",
    "# Ans:\n",
    "\n",
    "\n",
    "def lenlist():\n",
    "    print(\"Create a list of random elements..\\n Enter 'q' if you want to stop:\")\n",
    "    l = list()\n",
    "    a = 1\n",
    "    while True:\n",
    "        print(f\"Enter the {a} element:\".format(a))\n",
    "        usr_input = input()\n",
    "        if usr_input == \"q\" or usr_input == \"Q\":\n",
    "            break\n",
    "        l.append(usr_input)\n",
    "        a += 1\n",
    "    return len(l)"
   ]
  },
  {
   "cell_type": "code",
   "execution_count": 36,
   "id": "ec4c3a19",
   "metadata": {},
   "outputs": [
    {
     "name": "stdout",
     "output_type": "stream",
     "text": [
      "Create a list of random elements..\n",
      " Enter 'q' if you want to stop:\n",
      "Enter the 1 element:\n",
      "23\n",
      "Enter the 2 element:\n",
      "aman\n",
      "Enter the 3 element:\n",
      "12\n",
      "Enter the 4 element:\n",
      "2\n",
      "Enter the 5 element:\n",
      "q\n"
     ]
    },
    {
     "data": {
      "text/plain": [
       "4"
      ]
     },
     "execution_count": 36,
     "metadata": {},
     "output_type": "execute_result"
    }
   ],
   "source": [
    "lenlist()"
   ]
  },
  {
   "cell_type": "code",
   "execution_count": 37,
   "id": "011ce168",
   "metadata": {},
   "outputs": [
    {
     "name": "stdout",
     "output_type": "stream",
     "text": [
      "['Welcome', 'to', 'Data', 'Big', 'course']\n"
     ]
    }
   ],
   "source": [
    "# Q39. Add the word \"Big\" in the 3rd index of the given list.\n",
    "\n",
    "# lst = [\"Welcome\", \"to\", \"Data\", \"course\"]\n",
    "\n",
    "# Ans.\n",
    "\n",
    "lst = [\"Welcome\", \"to\", \"Data\", \"course\"]\n",
    "lst.insert(3,\"Big\")\n",
    "print(lst)"
   ]
  },
  {
   "cell_type": "code",
   "execution_count": null,
   "id": "cbb8ebdb",
   "metadata": {},
   "outputs": [],
   "source": [
    "# Q40. What is a tuple? How is it different from list?\n",
    "# Ans: Tuple is data type in python which can not be modified or imutable data type."
   ]
  },
  {
   "cell_type": "code",
   "execution_count": null,
   "id": "1d6058a9",
   "metadata": {},
   "outputs": [],
   "source": [
    "# Q41. How can you create a tuple in Python?\n",
    "# Ans: Tuple can create with the help of empty parenthiesis or l = tuple()"
   ]
  },
  {
   "cell_type": "code",
   "execution_count": 80,
   "id": "d7fd6f49",
   "metadata": {},
   "outputs": [
    {
     "name": "stdout",
     "output_type": "stream",
     "text": [
      "error is: 'tuple' object has no attribute 'append'\n",
      "hence tuple is immutable data structure.\n"
     ]
    }
   ],
   "source": [
    "# Q42. Create a tuple and try to add your name in the tuple. Are you able to do it? Support your answer with reason.\n",
    "# Ans:\n",
    "try:\n",
    "    f_name = (\"akash yadav\",\"himanshu yadav\",\"abhishek kumar\",\"sachin takur\")\n",
    "    f_name.append(\"aman\")\n",
    "except Exception as e:\n",
    "    print(\"error is:\",e)\n",
    "finally:\n",
    "    print(\"hence tuple is immutable data structure.\")"
   ]
  },
  {
   "cell_type": "code",
   "execution_count": 39,
   "id": "60709044",
   "metadata": {},
   "outputs": [
    {
     "name": "stdout",
     "output_type": "stream",
     "text": [
      "('aman', 'yadav', 22, 'ineuron', 'big data or data engineer')\n"
     ]
    }
   ],
   "source": [
    "# Q43. Can two tuple be appended. If yes, write a code for it. If not, why?\n",
    "# Ans: Yes, two tuples can appended.\n",
    "tupe_1 = (\"aman\",\"yadav\",22)\n",
    "tuple_2 = (\"ineuron\",\"big data or data engineer\")\n",
    "tuple_3 = tupe_1+tuple_2\n",
    "print(tuple_3)"
   ]
  },
  {
   "cell_type": "code",
   "execution_count": 40,
   "id": "596baf10",
   "metadata": {},
   "outputs": [
    {
     "name": "stdout",
     "output_type": "stream",
     "text": [
      "5\n"
     ]
    }
   ],
   "source": [
    "# Q44. Take a tuple as an input and print the count of elements in it.\n",
    "# Ans:\n",
    "\n",
    "usr_input = (\"aman\",\"yadav\",22,\"btech\",\"ME\")\n",
    "print(len(usr_input))"
   ]
  },
  {
   "cell_type": "code",
   "execution_count": null,
   "id": "d5c77adf",
   "metadata": {},
   "outputs": [],
   "source": [
    "# Q45. What are sets in Python?\n",
    "# Ans: Set is collection of unique well defined objects or data"
   ]
  },
  {
   "cell_type": "markdown",
   "id": "0e480de9",
   "metadata": {},
   "source": [
    "Q46. How can you create a set?\n",
    "Ans: \n",
    "A set is created by placing all the items (elements) inside curly braces {} , separated by comma, or by using the built-in set() function"
   ]
  },
  {
   "cell_type": "code",
   "execution_count": null,
   "id": "d0d82829",
   "metadata": {},
   "outputs": [],
   "source": [
    "# Q46. How can you create a set?\n",
    "# Ans: Creating a set in python with help of curly brace i.e {}."
   ]
  },
  {
   "cell_type": "code",
   "execution_count": 41,
   "id": "e894eb68",
   "metadata": {},
   "outputs": [
    {
     "name": "stdout",
     "output_type": "stream",
     "text": [
      "{'i', 'u', 'o', 'n', 'N', 'e', 'r'}\n"
     ]
    }
   ],
   "source": [
    "# Q47. Create a set and add \"iNeuron\" in your set.\n",
    "# Ans:\n",
    "var = \"iNeuron\"\n",
    "new = set(var)\n",
    "print(new)"
   ]
  },
  {
   "cell_type": "code",
   "execution_count": 42,
   "id": "f95cd7bd",
   "metadata": {},
   "outputs": [
    {
     "data": {
      "text/plain": [
       "11"
      ]
     },
     "execution_count": 42,
     "metadata": {},
     "output_type": "execute_result"
    }
   ],
   "source": [
    "# Q48. Try to add multiple values using add() function.\n",
    "# Ans:\n",
    "\n",
    "def add(*num):\n",
    "    s = 0\n",
    "    for i in num:\n",
    "        s += i\n",
    "    return s\n",
    "\n",
    "add(3,4)\n",
    "add(2,5,4)"
   ]
  },
  {
   "cell_type": "markdown",
   "id": "97de827a",
   "metadata": {},
   "source": [
    "Q49. How is update() different from add()?\n",
    "Ans:add method directly adds elements to the set while the update method converts first argument into set then it adds the list is hashable"
   ]
  },
  {
   "cell_type": "markdown",
   "id": "c2d5d027",
   "metadata": {},
   "source": [
    "Q50. What is clear() in sets?\n",
    "Ans: clear() method in sets is used to remove all the elements from a Set. Using the clear() method only clears all the element from the set and not deletes the set."
   ]
  },
  {
   "cell_type": "markdown",
   "id": "3a67b2da",
   "metadata": {},
   "source": [
    "Q51. What is frozen set?\n",
    "Ans: frozen set() Method creates an immutable Set object from an iterable. It is a built-in Python function. As it is a set object therefore we cannot have duplicate values in the frozenset."
   ]
  },
  {
   "cell_type": "markdown",
   "id": "30e9b29f",
   "metadata": {},
   "source": [
    "Q52. How is frozen set different from set?\n",
    "Ans:\n",
    "A set is an unordered and unindexed collection of unique elements. Sets are mutable, you can change the elements using a built-in function like add(), remove(), etc.\n",
    "A frozenset is an unordered and unindexed collection of unique elements. It is immutable and it is hashable\n",
    "\n"
   ]
  },
  {
   "cell_type": "code",
   "execution_count": 43,
   "id": "372c0609",
   "metadata": {},
   "outputs": [
    {
     "name": "stdout",
     "output_type": "stream",
     "text": [
      "A U B : {1, 2, 3, 4}\n"
     ]
    }
   ],
   "source": [
    "# Q53. What is union() in sets? Explain via code.\n",
    "# Ans:The Python set union() method returns a new set with distinct elements from all the sets\n",
    "    \n",
    "a = {1,3,4}\n",
    "b = {4,2,1}\n",
    "print(\"A U B :\",a.union(b))"
   ]
  },
  {
   "cell_type": "code",
   "execution_count": 44,
   "id": "541de702",
   "metadata": {},
   "outputs": [
    {
     "name": "stdout",
     "output_type": "stream",
     "text": [
      "Intersection of two above sets is: {3, 6}\n"
     ]
    }
   ],
   "source": [
    "# Q54. What is intersection() in sets? Explain via code.\n",
    "# Ans: Intersection in sets means collection of common data in all the sets.\n",
    "\n",
    "a = {1,3,4,6}\n",
    "b = {3,8,-1,6}\n",
    "print(\"Intersection of two above sets is:\",a.intersection(b))"
   ]
  },
  {
   "cell_type": "markdown",
   "id": "3127e8ab",
   "metadata": {},
   "source": [
    "Q55. What is dictionary ibn Python?\n",
    "Ans: Dictionary. Dictionaries are used to store data values in key:value pairs. A dictionary is a collection which is ordered*, changeable and do not allow duplicates"
   ]
  },
  {
   "cell_type": "markdown",
   "id": "685b53dc",
   "metadata": {},
   "source": [
    "Q56. How is dictionary different from all other data structures.\n",
    "Ans: In other data structure like list or tuple are having non key value pair, duplicates, and stored different data in same place.But in Dictionary it stored data in the form of key:valuer pair, having no duplicates keys, and provide excellent data reading."
   ]
  },
  {
   "cell_type": "markdown",
   "id": "9a7b1d50",
   "metadata": {},
   "source": [
    "Q57. How can we delare a dictionary in Python?\n",
    "Ans: Declare a dictionary in python is with the help of dict() keyword or empty braces."
   ]
  },
  {
   "cell_type": "code",
   "execution_count": 45,
   "id": "aca09a98",
   "metadata": {},
   "outputs": [
    {
     "name": "stdout",
     "output_type": "stream",
     "text": [
      "<class 'dict'>\n"
     ]
    }
   ],
   "source": [
    "# Q58. What will the output of the following?\n",
    "\n",
    "# var = {}\n",
    "# print(type(var))\n",
    "\n",
    "# Ans:\n",
    "\n",
    "var = {}\n",
    "print(type(var))\n"
   ]
  },
  {
   "cell_type": "code",
   "execution_count": 46,
   "id": "f2cce31a",
   "metadata": {},
   "outputs": [
    {
     "name": "stdout",
     "output_type": "stream",
     "text": [
      "{'st1': 'aman', 'st2': 'rahul', 'st3': 'karan'}\n"
     ]
    }
   ],
   "source": [
    "# Q59. How can we add an element in a dictionary?\n",
    "# Ans:\n",
    "\n",
    "student_info = {\n",
    "    \"st1\":\"aman\",\n",
    "    \"st2\":\"rahul\",\n",
    "}\n",
    "# adding new element in a dict\n",
    "student_info[\"st3\"] = \"karan\"\n",
    "print(student_info)"
   ]
  },
  {
   "cell_type": "code",
   "execution_count": 47,
   "id": "26d97daa",
   "metadata": {},
   "outputs": [
    {
     "name": "stdout",
     "output_type": "stream",
     "text": [
      "18\n",
      "7\n",
      "45\n"
     ]
    }
   ],
   "source": [
    "# Q60. Create a dictionary and access all the values in that dictionary.\n",
    "# Ans:\n",
    "players_info = {\"virat\":18,\"dhoni\":7,\"rohit\":45}\n",
    "for value in players_info.values():\n",
    "    print(value)"
   ]
  },
  {
   "cell_type": "code",
   "execution_count": 48,
   "id": "d2dd3a49",
   "metadata": {},
   "outputs": [
    {
     "name": "stdout",
     "output_type": "stream",
     "text": [
      "india {'virat': 18, 'dhoni': 7, 'rohit': 45}\n",
      "virat 18\n",
      "dhoni 7\n",
      "rohit 45\n",
      "england {'root': 36, 'butter': 11, 'kevin peterson': 78}\n",
      "root 36\n",
      "butter 11\n",
      "kevin peterson 78\n"
     ]
    }
   ],
   "source": [
    "# Q61. Create a nested dictionary and access all the element in the inner dictionary.\n",
    "# Ans:\n",
    "team_info = {\n",
    "   \"india\": {\n",
    "        \"virat\":18,\n",
    "        \"dhoni\":7,\n",
    "        \"rohit\":45\n",
    "    },\n",
    "   \"england\": {\n",
    "        \"root\":36,\n",
    "        \"butter\":11,\n",
    "        \"kevin peterson\":78\n",
    "    }\n",
    "}\n",
    "for key,value in team_info.items():\n",
    "    print(key,value)\n",
    "    for i,j in value.items():\n",
    "        print(i,j)"
   ]
  },
  {
   "cell_type": "markdown",
   "id": "9ed2e4e1",
   "metadata": {},
   "source": [
    "Q62. What is the use of get() function?\n",
    "Ans:The get() method returns the value of the item with the specified key."
   ]
  },
  {
   "cell_type": "markdown",
   "id": "9138610c",
   "metadata": {},
   "source": [
    "Q63. What is the use of items() function?\n",
    "Ans:In Python Dictionary, items() method is used to return the list with all dictionary keys with values"
   ]
  },
  {
   "cell_type": "markdown",
   "id": "130b2192",
   "metadata": {},
   "source": [
    "Q64. What is the use of pop() function?\n",
    "Ans: The pop() method removes the last element from an array and returns that element."
   ]
  },
  {
   "cell_type": "code",
   "execution_count": 49,
   "id": "2df425a4",
   "metadata": {},
   "outputs": [
    {
     "data": {
      "text/plain": [
       "('f_actress', 'all')"
      ]
     },
     "execution_count": 49,
     "metadata": {},
     "output_type": "execute_result"
    }
   ],
   "source": [
    "# Q65. What is the use of popitems() function?\n",
    "# Ans:Python dictionary popitem() method removes the last inserted key-value pair from the dictionary and returns it as a tuple.\n",
    "dict = {\"f_movie\":\"avatar\",\"f_song\":\"russian spring\",\"f_actress\":\"all\"}\n",
    "dict.popitem()"
   ]
  },
  {
   "cell_type": "markdown",
   "id": "8884ce72",
   "metadata": {},
   "source": [
    "Q66. What is the use of keys() function?\n",
    "Ans: keys() function in dictionary holds all the keys in a list."
   ]
  },
  {
   "cell_type": "markdown",
   "id": "6872b868",
   "metadata": {},
   "source": [
    "Q67. What is the use of values() function?\n",
    "Ans:  values() function in dictionary holds all the values of respective keys in a list."
   ]
  },
  {
   "cell_type": "code",
   "execution_count": null,
   "id": "d064736b",
   "metadata": {},
   "outputs": [],
   "source": [
    "# Q68. What are loops in Python?\n",
    "# Ans:Looping means repeating something over and over until a particular condition is satisfied."
   ]
  },
  {
   "cell_type": "code",
   "execution_count": null,
   "id": "bcdfd785",
   "metadata": {},
   "outputs": [],
   "source": [
    "Q69. How many type of loop are there in Python?\n",
    "Ans:There are two types of loops in Python, for and while."
   ]
  },
  {
   "cell_type": "markdown",
   "id": "9cce2b5a",
   "metadata": {},
   "source": [
    "Q70. What is the difference between for and while loops?\n",
    "Ans:In the case of a for loop, the initialization is done once at the start, so there is no need to initialize it again. But in the case of a while loop, we require to initialize the loop manually by taking a variable that is further modified"
   ]
  },
  {
   "cell_type": "markdown",
   "id": "58dab3bb",
   "metadata": {},
   "source": [
    "Q71. What is the use of continue statement?\n",
    "Ans: To skip the rest of code and move to next iteration."
   ]
  },
  {
   "cell_type": "markdown",
   "id": "325d9b13",
   "metadata": {},
   "source": [
    "Q72. What is the use of break statement?\n",
    "Ans: To exit from the loop."
   ]
  },
  {
   "cell_type": "markdown",
   "id": "8e2ed7b8",
   "metadata": {},
   "source": [
    "Q73. What is the use of pass statement?\n",
    "Ans: The pass statement is used as a placeholder for future code. When the pass statement is executed, nothing happens, but you avoid getting an error when empty code is not allowed."
   ]
  },
  {
   "cell_type": "markdown",
   "id": "3b61ff58",
   "metadata": {},
   "source": [
    "Q74. What is the use of range() function?\n",
    "Ans: To give a list of sequential data as per user."
   ]
  },
  {
   "cell_type": "markdown",
   "id": "ae0a0289",
   "metadata": {},
   "source": [
    "Q75. How can you loop over a dictionary?\n",
    "Ans: In Python, to iterate the dictionary ( dict ) with a for loop, use keys() , values() , items() methods"
   ]
  },
  {
   "cell_type": "markdown",
   "id": "c968810f",
   "metadata": {},
   "source": [
    "# Coding problems\n"
   ]
  },
  {
   "cell_type": "code",
   "execution_count": 50,
   "id": "686b3227",
   "metadata": {},
   "outputs": [
    {
     "data": {
      "text/plain": [
       "120"
      ]
     },
     "execution_count": 50,
     "metadata": {},
     "output_type": "execute_result"
    }
   ],
   "source": [
    "# Q76. Write a Python program to find the factorial of a given number.\n",
    "# Ans\n",
    "\n",
    "def factorial(n):\n",
    "    if n == 0:\n",
    "        return 1\n",
    "    elif n == 1:\n",
    "        return 1\n",
    "    else:\n",
    "        return n*factorial(n-1)\n",
    "factorial(5)"
   ]
  },
  {
   "cell_type": "code",
   "execution_count": 51,
   "id": "36814542",
   "metadata": {},
   "outputs": [
    {
     "name": "stdout",
     "output_type": "stream",
     "text": [
      "Enter the principal amount:100000\n",
      "Enter the rate of interest:6\n",
      "Enter the time period:2\n",
      "12000.0\n"
     ]
    }
   ],
   "source": [
    "# Q77. Write a Python program to calculate the simple interest. Formula to calculate simple interest is SI = (PRT)/100\n",
    "# Ans:\n",
    "p = int(input(\"Enter the principal amount:\"))\n",
    "r = int(input(\"Enter the rate of interest:\"))\n",
    "t= int(input(\"Enter the time period:\"))\n",
    "si = (p*r*t)/100\n",
    "print(si)\n"
   ]
  },
  {
   "cell_type": "code",
   "execution_count": 52,
   "id": "61a941e8",
   "metadata": {},
   "outputs": [
    {
     "name": "stdout",
     "output_type": "stream",
     "text": [
      "Enter the principal amount:100000\n",
      "Enter the rate of interest:6\n",
      "Enter the time period:2\n",
      "112360.00000000001\n"
     ]
    }
   ],
   "source": [
    "# Q78. Write a Python program to calculate the compound interest. Formula of compound interest is A = P(1+ R/100)^t.\n",
    "# Ans:\n",
    "p = int(input(\"Enter the principal amount:\"))\n",
    "r = int(input(\"Enter the rate of interest:\"))\n",
    "t= int(input(\"Enter the time period:\"))\n",
    "ci = p*(pow((1+r/100),t))\n",
    "print(ci)"
   ]
  },
  {
   "cell_type": "code",
   "execution_count": 53,
   "id": "cf69ee8e",
   "metadata": {},
   "outputs": [
    {
     "name": "stdout",
     "output_type": "stream",
     "text": [
      "11 is a prime number\n"
     ]
    }
   ],
   "source": [
    "# Q79. Write a Python program to check if a number is prime or not.\n",
    "# Ans:\n",
    "num = 11\n",
    "# If given number is greater than 1\n",
    "if num > 1:\n",
    "\t# Iterate from 2 to n / 2\n",
    "\tfor i in range(2, int(num/2)+1):\n",
    "\t\t# If num is divisible by any number between\n",
    "\t\t# 2 and n / 2, it is not prime\n",
    "\t\tif (num % i) == 0:\n",
    "\t\t\tprint(num, \"is not a prime number\")\n",
    "\t\t\tbreak\n",
    "\telse:\n",
    "\t\tprint(num, \"is a prime number\")\n",
    "else:\n",
    "\tprint(num, \"is not a prime number\")\n"
   ]
  },
  {
   "cell_type": "code",
   "execution_count": 54,
   "id": "d91533c9",
   "metadata": {},
   "outputs": [
    {
     "name": "stdout",
     "output_type": "stream",
     "text": [
      "Enter the nums:23\n",
      "Not an armstron\n"
     ]
    }
   ],
   "source": [
    "# Q80. Write a Python program to check Armstrong Number.\n",
    "# Ans:\n",
    "\n",
    "def check_armstrong(num):\n",
    "    lambai = len(num)\n",
    "    sum = 0\n",
    "    for i in num:\n",
    "        sum += pow(int(i),lambai)\n",
    "    str_sum = str(sum)\n",
    "    if str_sum == num:\n",
    "        print(\"Yes\")\n",
    "    else:\n",
    "        print(\"Not an armstron\")\n",
    "num = input(\"Enter the nums:\")\n",
    "check_armstrong(num)"
   ]
  },
  {
   "cell_type": "code",
   "execution_count": 55,
   "id": "e4143b6a",
   "metadata": {},
   "outputs": [
    {
     "name": "stdout",
     "output_type": "stream",
     "text": [
      "1 1\n",
      "1 2\n",
      "2 3\n",
      "3 5\n",
      "5 8\n",
      "8 13\n",
      "13 21\n",
      "21 34\n"
     ]
    },
    {
     "data": {
      "text/plain": [
       "34"
      ]
     },
     "execution_count": 55,
     "metadata": {},
     "output_type": "execute_result"
    }
   ],
   "source": [
    "# Q81. Write a Python program to find the n-th Fibonacci Number.\n",
    "# Ans:\n",
    "\n",
    "def nth_fib(n):\n",
    "    first = 0\n",
    "    second = 1\n",
    "    for i in range(n):\n",
    "        first,second = second,first+second\n",
    "        print(first,second)\n",
    "    return second\n",
    "nth_fib(8)"
   ]
  },
  {
   "cell_type": "code",
   "execution_count": 56,
   "id": "f8e5bf65",
   "metadata": {},
   "outputs": [
    {
     "name": "stdout",
     "output_type": "stream",
     "text": [
      "[-3, 3, 23, 11, 45, 0, 1]\n"
     ]
    }
   ],
   "source": [
    "# Q82. Write a Python program to interchange the first and last element in a list.\n",
    "# Ans:\n",
    "lst = [1,3,23,11,45,0,-3]\n",
    "l = len(lst)\n",
    "last = lst[l-1]\n",
    "first = lst[0]\n",
    "lst[0],lst[l-1] = last,first\n",
    "print(lst)"
   ]
  },
  {
   "cell_type": "code",
   "execution_count": 57,
   "id": "fbceb95f",
   "metadata": {},
   "outputs": [
    {
     "name": "stdout",
     "output_type": "stream",
     "text": [
      "0\n",
      "2\n"
     ]
    },
    {
     "data": {
      "text/plain": [
       "[67, 5, 3, 12, 11, 10]"
      ]
     },
     "execution_count": 57,
     "metadata": {},
     "output_type": "execute_result"
    }
   ],
   "source": [
    "# Q83. Write a Python program to swap two elements in a list.\n",
    "# Ans:\n",
    "\n",
    "def swap(lst,a,b):\n",
    "    pos_a = 0\n",
    "    for i in range(len(lst)):\n",
    "        if lst[i]==a:\n",
    "            pos_a = i\n",
    "    print(pos_a)\n",
    "    pos_b = 0\n",
    "    for i in range(len(lst)):\n",
    "        if lst[i]==b:\n",
    "            pos_b = i\n",
    "    print(pos_b)\n",
    "    if (a and b) in lst:\n",
    "        temp_a = lst[pos_a]\n",
    "        temp_b = lst[pos_b]\n",
    "        lst.remove(b)\n",
    "        lst.remove(a)\n",
    "        \n",
    "        lst.insert(pos_a,temp_b)\n",
    "        lst.insert(pos_b,temp_a)\n",
    "    return lst\n",
    "swap([3,5,67,12,11,10],3,67)"
   ]
  },
  {
   "cell_type": "code",
   "execution_count": 58,
   "id": "671f7cf7",
   "metadata": {},
   "outputs": [
    {
     "name": "stdout",
     "output_type": "stream",
     "text": [
      "98\n"
     ]
    }
   ],
   "source": [
    "# Q84. Write a Python program to find N largest element from a list.\n",
    "# Ans:\n",
    "\n",
    "lst = [-1,4.43,3,5,11,98]\n",
    "temp = lst[0]\n",
    "for i in range(len(lst)):\n",
    "    if lst[i] > temp:\n",
    "        temp = lst[i]\n",
    "print(temp)"
   ]
  },
  {
   "cell_type": "code",
   "execution_count": 59,
   "id": "744ab1de",
   "metadata": {},
   "outputs": [
    {
     "data": {
      "text/plain": [
       "155.55"
      ]
     },
     "execution_count": 59,
     "metadata": {},
     "output_type": "execute_result"
    }
   ],
   "source": [
    "# Q85. Write a Python program to find cumulative sum of a list.\n",
    "# Ans:\n",
    "lst = [23,-1,0,98.55,34,1]\n",
    "def sum(n):\n",
    "    s = 0\n",
    "    for i in n:\n",
    "        s += i\n",
    "    return s\n",
    "sum(lst)"
   ]
  },
  {
   "cell_type": "code",
   "execution_count": 60,
   "id": "b8f3c083",
   "metadata": {},
   "outputs": [
    {
     "name": "stdout",
     "output_type": "stream",
     "text": [
      "Enter the string:aman\n",
      "nama\n",
      "Nope, it's not a palindrome.\n"
     ]
    }
   ],
   "source": [
    "# Q86. Write a Python program to check if a string is palindrome or not.\n",
    "# Ans:\n",
    "def check_palindrome(s):\n",
    "    reverse = \"\"\n",
    "    for i in range(len(s)-1,-1,-1):\n",
    "        reverse += s[i]\n",
    "    print(reverse)\n",
    "    if reverse == s:\n",
    "        print(\"wow!,it's a palindrome.\")\n",
    "    else:\n",
    "        print(\"Nope, it's not a palindrome.\")\n",
    "s = input(\"Enter the string:\")\n",
    "check_palindrome(s)"
   ]
  },
  {
   "cell_type": "code",
   "execution_count": 61,
   "id": "3e5f246a",
   "metadata": {},
   "outputs": [
    {
     "name": "stdout",
     "output_type": "stream",
     "text": [
      "amnyadav\n"
     ]
    }
   ],
   "source": [
    "# Q87. Write a Python program to remove i'th element from a string.\n",
    "# Ans:\n",
    "s = \"amanyadav\"\n",
    "# let's remove 4th palace element in a given string\n",
    "def remove_nth_element(s,i):\n",
    "    new_s = s[:i] + s[i+1:]\n",
    "    print(new_s)\n",
    "remove_nth_element(s,2)"
   ]
  },
  {
   "cell_type": "code",
   "execution_count": 62,
   "id": "3368a6e1",
   "metadata": {},
   "outputs": [
    {
     "name": "stdout",
     "output_type": "stream",
     "text": [
      "['Create', 'character', 'values', 'rather', 'greedyness,', 'money,', 'materialistic']\n"
     ]
    }
   ],
   "source": [
    "# Q89. Write a Python program to find words which are greater than given length k.\n",
    "# Ans:\n",
    "\n",
    "def filter_words(s,k):\n",
    "    lst = s.split(\" \")\n",
    "    ftr = []\n",
    "    for i in lst:\n",
    "        if len(i) > k :\n",
    "            ftr.append(i)\n",
    "    return ftr\n",
    "s = \"Create your own character and values in life rather than greedyness, money money money, and care about materialistic life\"\n",
    "print(filter_words(s,5))"
   ]
  },
  {
   "cell_type": "code",
   "execution_count": 63,
   "id": "fae41f7b",
   "metadata": {},
   "outputs": [
    {
     "name": "stdout",
     "output_type": "stream",
     "text": [
      "{201, 234, 140, 78}\n"
     ]
    }
   ],
   "source": [
    "# Q90. Write a Python program to extract unquire dictionary values.\n",
    "# Ans:\n",
    "dict = {\"argentina\":140,\"brazil\":234,\"spain\":140,\"portugal\":78,\"germany\":201,\"south korea\":78}\n",
    "lst = list()\n",
    "for value in dict.values():\n",
    "    lst.append(value)\n",
    "new_lst =set(lst)\n",
    "print(new_lst)"
   ]
  },
  {
   "cell_type": "code",
   "execution_count": 64,
   "id": "b346b575",
   "metadata": {},
   "outputs": [
    {
     "name": "stdout",
     "output_type": "stream",
     "text": [
      "None\n",
      "{'d': 6, 'c': 4, 'a': 10, 'b': 8}\n"
     ]
    }
   ],
   "source": [
    "# Q91. Write a Python program to merge two dictionary.\n",
    "# Ans:\n",
    "\n",
    "# Python code to merge dict using update() method\n",
    "def Merge(dict1, dict2):\n",
    "    return(dict2.update(dict1))\n",
    " \n",
    " \n",
    "# Driver code\n",
    "dict1 = {'a': 10, 'b': 8}\n",
    "dict2 = {'d': 6, 'c': 4}\n",
    " \n",
    "# This returns None\n",
    "print(Merge(dict1, dict2))\n",
    " \n",
    "# changes made in dict2\n",
    "print(dict2)"
   ]
  },
  {
   "cell_type": "code",
   "execution_count": 75,
   "id": "0d91a8a0",
   "metadata": {},
   "outputs": [
    {
     "name": "stdout",
     "output_type": "stream",
     "text": [
      "{'Sachin': 10, 'MSD': 7, 'Kohli': 18, 'Rohit': 45}\n"
     ]
    }
   ],
   "source": [
    "# Q92. Write a Python program to convert a list of tuples into dictionary.\n",
    "\n",
    "# Input : [('Sachin', 10), ('MSD', 7), ('Kohli', 18), ('Rohit', 45)]\n",
    "# Output : {'Sachin': 10, 'MSD': 7, 'Kohli': 18, 'Rohit': 45}\n",
    "# Ans:\n",
    "\n",
    "def convertor_1(s):\n",
    "    d = {}\n",
    "    for i in s:\n",
    "        d[i[0]] = i[1]\n",
    "    return d\n",
    "\n",
    "Input = [('Sachin', 10), ('MSD', 7), ('Kohli', 18), ('Rohit', 45)]\n",
    "print(convertor_1(Input))\n",
    "            "
   ]
  },
  {
   "cell_type": "code",
   "execution_count": 66,
   "id": "d298af73",
   "metadata": {},
   "outputs": [
    {
     "name": "stdout",
     "output_type": "stream",
     "text": [
      "[(9, 729), (5, 125), (6, 216)]\n"
     ]
    }
   ],
   "source": [
    "# Q93. Write a Python program to create a list of tuples from given list having number and its cube in each tuple.\n",
    "\n",
    "# Input: list = [9, 5, 6]\n",
    "# Output: [(9, 729), (5, 125), (6, 216)]\n",
    "\n",
    "# Ans:\n",
    "\n",
    "def convertor_2(s):\n",
    "    output = list()\n",
    "    for i in s:\n",
    "        its_cube = pow(i,3)\n",
    "        output.append((i,its_cube))\n",
    "    return output\n",
    "\n",
    "Input = [9,5,6]\n",
    "print(convertor_2(Input))"
   ]
  },
  {
   "cell_type": "code",
   "execution_count": 67,
   "id": "4af8e477",
   "metadata": {},
   "outputs": [
    {
     "name": "stdout",
     "output_type": "stream",
     "text": [
      "[(7, 7), (7, 8), (2, 7), (2, 8), (7, 7), (7, 2), (8, 7), (8, 2)]\n"
     ]
    }
   ],
   "source": [
    "# Q94. Write a Python program to get all combinations of 2 tuples.\n",
    "\n",
    "# Input : test_tuple1 = (7, 2), test_tuple2 = (7, 8)\n",
    "# Output : [(7, 7), (7, 8), (2, 7), (2, 8), (7, 7), (7, 2), (8, 7), (8, 2)]\n",
    "    \n",
    "# Ans:\n",
    "\n",
    "test_tuple1 = (7,2)\n",
    "test_tuple2 = (7, 8)\n",
    "\n",
    "output = []\n",
    "for i in test_tuple1:\n",
    "    for j in test_tuple2:\n",
    "        output.append((i,j))\n",
    "for i in test_tuple2:\n",
    "    for j in test_tuple1:\n",
    "        output.append((i,j))\n",
    "print(output)"
   ]
  },
  {
   "cell_type": "code",
   "execution_count": 68,
   "id": "f629a874",
   "metadata": {},
   "outputs": [
    {
     "name": "stdout",
     "output_type": "stream",
     "text": [
      "[('Geeks', 8), ('for', 24), ('Geeks', 30)]\n"
     ]
    }
   ],
   "source": [
    "# Q95. Write a Python program to sort a list of tuples by second item.\n",
    "\n",
    "# Input : [('for', 24), ('Geeks', 8), ('Geeks', 30)] \n",
    "# Output : [('Geeks', 8), ('for', 24), ('Geeks', 30)]\n",
    "\n",
    "# Ans:\n",
    "\n",
    "def Sort_Tuple(tup):\n",
    "     \n",
    "    # getting length of list of tuples\n",
    "    lst = len(tup)\n",
    "    for i in range(0, lst):\n",
    "         \n",
    "        for j in range(0, lst-i-1):\n",
    "            if (tup[j][1] > tup[j + 1][1]):\n",
    "                temp = tup[j]\n",
    "                tup[j]= tup[j + 1]\n",
    "                tup[j + 1]= temp\n",
    "    return tup\n",
    "\n",
    "Input = [('for', 24), ('Geeks', 8), ('Geeks', 30)]\n",
    "print(Sort_Tuple(Input))"
   ]
  },
  {
   "cell_type": "code",
   "execution_count": 69,
   "id": "33a50e3f",
   "metadata": {},
   "outputs": [
    {
     "name": "stdout",
     "output_type": "stream",
     "text": [
      "*\n",
      "**\n",
      "***\n",
      "****\n",
      "*****\n"
     ]
    }
   ],
   "source": [
    "# Q96. Write a python program to print below pattern.\n",
    "\n",
    "# * \n",
    "# * * \n",
    "# * * * \n",
    "# * * * * \n",
    "# * * * * * \n",
    "# Ans:\n",
    "for i in range(1,6):\n",
    "    for j in range(i):\n",
    "        print(\"*\",end=\"\")\n",
    "    print()"
   ]
  },
  {
   "cell_type": "code",
   "execution_count": 70,
   "id": "92764925",
   "metadata": {
    "scrolled": true
   },
   "outputs": [
    {
     "name": "stdout",
     "output_type": "stream",
     "text": [
      "    *\n",
      "   **\n",
      "  ***\n",
      " ****\n",
      "*****\n"
     ]
    }
   ],
   "source": [
    "# Q97. Write a python program to print below pattern.\n",
    "\n",
    "#     *\n",
    "#    **\n",
    "#   ***\n",
    "#  ****\n",
    "# *****\n",
    "# Ans:\n",
    "\n",
    "for i in range(1,6):\n",
    "    for j in range(5-i):\n",
    "        print(\" \",end=\"\")\n",
    "    for k in range(i):\n",
    "        print(\"*\",end=\"\")\n",
    "    print()"
   ]
  },
  {
   "cell_type": "code",
   "execution_count": 71,
   "id": "a4afc7cc",
   "metadata": {},
   "outputs": [
    {
     "name": "stdout",
     "output_type": "stream",
     "text": [
      "        *  \n",
      "       * *  \n",
      "      * * *  \n",
      "     * * * *  \n",
      "    * * * * *  \n"
     ]
    }
   ],
   "source": [
    "# Q98. Write a python program to print below pattern.\n",
    "\n",
    "#     * \n",
    "#    * * \n",
    "#   * * * \n",
    "#  * * * * \n",
    "# * * * * * \n",
    "# Ans:\n",
    "\n",
    "# printing full Triangle pyramid using stars\n",
    "size = 5\n",
    "m = (2 * size) - 2\n",
    "for i in range(0, size):\n",
    "    for j in range(0, m):\n",
    "        print(end=\" \")\n",
    "    # decrementing m after each loop\n",
    "    m = m - 1\n",
    "    for j in range(0, i + 1):\n",
    "        print(\"*\", end=' ')\n",
    "    print(\" \")\n"
   ]
  },
  {
   "cell_type": "code",
   "execution_count": 72,
   "id": "9ca31f69",
   "metadata": {},
   "outputs": [
    {
     "name": "stdout",
     "output_type": "stream",
     "text": [
      "1\n",
      "12\n",
      "123\n",
      "1234\n",
      "12345\n"
     ]
    }
   ],
   "source": [
    "# Q99. Write a python program to print below pattern.\n",
    "\n",
    "# 1 \n",
    "# 1 2 \n",
    "# 1 2 3 \n",
    "# 1 2 3 4 \n",
    "# 1 2 3 4 5\n",
    "\n",
    "# Ans:\n",
    "\n",
    "for i in range(1,6):\n",
    "    for j in range(1,i+1):\n",
    "        print(j,end=\"\")\n",
    "    print()"
   ]
  },
  {
   "cell_type": "code",
   "execution_count": 73,
   "id": "9d627f3d",
   "metadata": {},
   "outputs": [
    {
     "name": "stdout",
     "output_type": "stream",
     "text": [
      "A\n",
      "BB\n",
      "CCC\n",
      "DDDD\n",
      "EEEEE\n"
     ]
    }
   ],
   "source": [
    "# Q100. Write a python program to print below pattern.\n",
    "\n",
    "# A \n",
    "# B B \n",
    "# C C C \n",
    "# D D D D \n",
    "# E E E E E \n",
    "# Ans:\n",
    "\n",
    "for i in range(1,6):\n",
    "    for j in range(i):\n",
    "        print(chr(64+i),end=\"\")\n",
    "    print()"
   ]
  }
 ],
 "metadata": {
  "kernelspec": {
   "display_name": "Python 3 (ipykernel)",
   "language": "python",
   "name": "python3"
  },
  "language_info": {
   "codemirror_mode": {
    "name": "ipython",
    "version": 3
   },
   "file_extension": ".py",
   "mimetype": "text/x-python",
   "name": "python",
   "nbconvert_exporter": "python",
   "pygments_lexer": "ipython3",
   "version": "3.10.4"
  }
 },
 "nbformat": 4,
 "nbformat_minor": 5
}
