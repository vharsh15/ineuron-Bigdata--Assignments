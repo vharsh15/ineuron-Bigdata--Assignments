{
 "cells": [
  {
   "cell_type": "markdown",
   "id": "0255c531",
   "metadata": {},
   "source": [
    "### Q1. What is the purpose of Python's OOP?\n",
    "Ans:In Python, object-oriented Programming (OOPs) is a programming paradigm that uses objects and classes in programming. It aims to implement real-world entities like inheritance, polymorphisms, encapsulation, etc. in the programming. It gives freedom to user to write code according to his/her functionality. And implement reusability of code."
   ]
  },
  {
   "cell_type": "markdown",
   "id": "3246d9c6",
   "metadata": {},
   "source": [
    "### Q2. Where does an inheritance search look for an attribute?\n",
    "Ans:An inheritance search looks for an attribute first in the instance object, then in the class the instance was created from, then in all higher superclasses, progressing from left to right (by default)."
   ]
  },
  {
   "cell_type": "markdown",
   "id": "b342afa4",
   "metadata": {},
   "source": [
    "### Q3. How do you distinguish between a class object and an instance object?\n",
    "Ans: A class is a blue print for creating objects in a program, whereas the object is an instance of a class. A class is a logical entity, while an object is a physical entity. A class does not allocate memory space; on the other hand, an object allocates memory space."
   ]
  },
  {
   "cell_type": "markdown",
   "id": "2fcafa0a",
   "metadata": {},
   "source": [
    "### Q4. What makes the first argument in a class’s method function special?\n",
    "Ans: A class method is similar to an instance method, but it has a class object passed as its first argument. Recall that, when an instance method is called from an instance object, that instance object is automatically passed as the first argument to the method."
   ]
  },
  {
   "cell_type": "markdown",
   "id": "2c183261",
   "metadata": {},
   "source": [
    "### Q5. What is the purpose of the init method?\n",
    "Ans: init method is a constructor in a class it means it will call itself by creating instance of class. Therefore it is a self starter of an object."
   ]
  },
  {
   "cell_type": "markdown",
   "id": "79d17ac2",
   "metadata": {},
   "source": [
    "### Q6. What is the process for creating a class instance?\n",
    "Ans: First create a class having various methods and attributes and then create a variable assign to class name followed by arguments.\n",
    "class Vehicle():\n",
    "    def __init__(self,name,model,price):\n",
    "        self.name = name\n",
    "        self.model = model\n",
    "        self.price = price\n",
    "    def info(self):\n",
    "        print(\"name of car is:\",self.name)\n",
    "        print(\"model of car is:\",self.model)\n",
    "        print(\"price of car is:\",self.price)      \n",
    "v1 = Vehicle(\"maruti\",2012,300000)        "
   ]
  },
  {
   "cell_type": "markdown",
   "id": "b2ba4ede",
   "metadata": {},
   "source": [
    "### Q7. What is the process for creating a class?\n",
    "Ans: just write class keyword and assgin name which start by capital letter.\n",
    "eg:class Vehicle():\n",
    "    def __init__(self,name,model,price):\n",
    "        self.name = name\n",
    "        self.model = model\n",
    "        self.price = price\n",
    "    def info(self):\n",
    "        print(\"name of car is:\",self.name)\n",
    "        print(\"model of car is:\",self.model)\n",
    "        print(\"price of car is:\",self.price)"
   ]
  },
  {
   "cell_type": "markdown",
   "id": "1503d694",
   "metadata": {},
   "source": [
    "### Q8. How would you define the superclasses of a class?\n",
    "Ans: The class from which a class inherits is called the parent or superclass. A class which inherits from a superclass is called a subclass, also called heir class or child class. Superclasses are sometimes called ancestors as well."
   ]
  },
  {
   "cell_type": "markdown",
   "id": "db1853ce",
   "metadata": {},
   "source": [
    "### Q9. What is the relationship between classes and modules?\n",
    "Ans:Modules are collections of methods and constants. They cannot generate instances. Classes may generate instances (objects), and have per-instance state (instance variables)."
   ]
  },
  {
   "cell_type": "markdown",
   "id": "90abcb7e",
   "metadata": {},
   "source": [
    "### Q10. How do you make instances and classes?\n",
    "Ans: class Person():\n",
    "        def .....\n",
    "        def...\n",
    "     object1 = Person()\n",
    "     object2 = Person()\n"
   ]
  },
  {
   "cell_type": "markdown",
   "id": "8c1c9678",
   "metadata": {},
   "source": [
    "### Q11. Where and how should be class attributes created?\n",
    "Ans: Class attributs create inside the class, A class attribute is shared by all instances of the class. To define a class attribute, you place it outside of the __init__() method."
   ]
  },
  {
   "cell_type": "markdown",
   "id": "661334a9",
   "metadata": {},
   "source": [
    "### Q12. Where and how are instance attributes created?\n",
    "Ans:Instance attributes are defined in the constructor. Defined directly inside a class. Defined inside a constructor using the self parameter"
   ]
  },
  {
   "cell_type": "markdown",
   "id": "a0a69b40",
   "metadata": {},
   "source": [
    "### Q13. What does the term \"self\" in a Python class mean?\n",
    "Ans:self represents the instance of the class. By using the “self” we can access the attributes and methods of the class in python. It binds the attributes with the given arguments. The reason you need to use self. is because Python does not use the @ syntax to refer to instance attributes."
   ]
  },
  {
   "cell_type": "markdown",
   "id": "f7779396",
   "metadata": {},
   "source": [
    "### Q14. How does a Python class handle operator overloading?\n",
    "Ans: Operator Overloading means giving extended meaning beyond their predefined operational meaning. For example operator + is used to add two integers as well as join two strings and merge two lists. It is achievable because '+' operator is overloaded by int class and str class."
   ]
  },
  {
   "cell_type": "markdown",
   "id": "bc680108",
   "metadata": {},
   "source": [
    "### Q15. When do you consider allowing operator overloading of your classes?\n",
    "Ans: The purpose of operator overloading is to provide a special meaning of an operator for a user-defined data type."
   ]
  },
  {
   "cell_type": "markdown",
   "id": "ec244878",
   "metadata": {},
   "source": [
    "### Q16. What is the most popular form of operator overloading?\n",
    "Ans:A very popular is the Addition (+) operator. Just think how the '+' operator operates on two numbers and the same operator operates on two strings. It performs “Addition” on numbers whereas it performs “Concatenation” on strings."
   ]
  },
  {
   "cell_type": "markdown",
   "id": "425be7f4",
   "metadata": {},
   "source": [
    "### Q17. What are the two most important concepts to grasp in order to comprehend Python OOP code?\n",
    "Ans: Inheritence and encapsulation are the two most important concept in Oops. Inheritence provide to inherit the one class to another so that no same code write again and encapsulation provie privatism of data to clients, it actually wrap the data and seprate from user and developer."
   ]
  },
  {
   "cell_type": "markdown",
   "id": "24be02ef",
   "metadata": {},
   "source": [
    "### Q18. Describe three applications for exception processing.\n",
    "Ans: Unlike system exceptions, application exceptions are not used to report system-level errors. Instead, business methods use application exceptions to notify the client of application-level activity that might cause errors; for example, invalid input argument values to a business method."
   ]
  },
  {
   "cell_type": "markdown",
   "id": "89c05802",
   "metadata": {},
   "source": [
    "### Q19. What happens if you don't do something extra to treat an exception?\n",
    "Ans: When an exception occurred, if you don't handle it, the program terminates abruptly and the code past the line that caused the exception will not get executed"
   ]
  },
  {
   "cell_type": "markdown",
   "id": "e1d93941",
   "metadata": {},
   "source": [
    "### Q20. What are your options for recovering from an exception in your script?\n",
    "Ans: Recovering from an exception in our script using \"try\" and \"except\" inbuilt python keywords."
   ]
  },
  {
   "cell_type": "markdown",
   "id": "ce48e03b",
   "metadata": {},
   "source": [
    "### Q21. Describe two methods for triggering exceptions in your script.\n",
    "Ans: by using try and except block for dealing with an exception."
   ]
  },
  {
   "cell_type": "markdown",
   "id": "ec9fa5df",
   "metadata": {},
   "source": [
    "### Q22. Identify two methods for specifying actions to be executed at termination time, regardless of whether or not an exception exists.\n",
    "Ans:\n",
    "Finally block always executes irrespective of an exception being thrown or not. The final keyword allows you to create a block of code that follows a try-catch block. Finally, clause is optional. It is intended to define clean-up actions which should be that executed in all conditions."
   ]
  },
  {
   "cell_type": "markdown",
   "id": "a60feef0",
   "metadata": {},
   "source": [
    "### Q23. What is the purpose of the try statement?\n",
    "Ans: try statement handle run time errors of following code and if there is an error then stop excuting further code and send to except block."
   ]
  },
  {
   "cell_type": "markdown",
   "id": "66fee671",
   "metadata": {},
   "source": [
    "### Q24. What are the two most popular try statement variations?\n",
    "Ans: There are two other optional segments to a try block: else and finally . Both of these optional blocks will come after the try and the except . Also, there's nothing stopping you from using both else and finally in a single statement."
   ]
  },
  {
   "cell_type": "markdown",
   "id": "0c9613f7",
   "metadata": {},
   "source": [
    "### Q25. What is the purpose of the raise statement?\n",
    "Ans: Python raise Keyword is used to raise exceptions or errors. The raise keyword raises an error and stops the control flow of the program. It is used to bring up the current exception in an exception handler so that it can be handled further up the call stack."
   ]
  },
  {
   "cell_type": "markdown",
   "id": "3a5a8dc5",
   "metadata": {},
   "source": [
    "### Q26. What does the assert statement do, and what other statement is it like?\n",
    "Ans:Assert statement takes an expression and optional message. assert statement is used to check types, values of argument and the output of the function. assert statement is used as debugging tool as it halts the program at the point where an error occurs."
   ]
  },
  {
   "cell_type": "markdown",
   "id": "f2bfcc73",
   "metadata": {},
   "source": [
    "### Q27. What is the purpose of the with/as argument, and what other statement is it like?\n",
    "Ans: In Python, with statement is used in exception handling to make the code cleaner and much more readable. It simplifies the management of common resources like file streams."
   ]
  },
  {
   "cell_type": "markdown",
   "id": "4dc1e10c",
   "metadata": {},
   "source": [
    "### Q28. What are *args, **kwargs?\n",
    "Ans: *args specifies the number of non-keyworded arguments that can be passed and the operations that can be performed on the function in Python whereas **kwargs is a variable number of keyworded arguments that can be passed to a function that can perform dictionary operations."
   ]
  },
  {
   "cell_type": "markdown",
   "id": "a3beddd0",
   "metadata": {},
   "source": [
    "### Q29. How can I pass optional or keyword parameters from one function to another?\n",
    "Ans: Users can either pass their values or can pretend the function to use theirs default values which are specified. In this way, the user can call the function by either passing those optional parameters or just passing the required parameters. Without using keyword arguments. By using keyword arguments."
   ]
  },
  {
   "cell_type": "markdown",
   "id": "0cf0a897",
   "metadata": {},
   "source": [
    "### Q30. What are Lambda Functions?\n",
    "Ans: Python Lambda Functions are anonymous function means that the function is without a name. As we already know that the def keyword is used to define a normal function in Python and one liner function."
   ]
  },
  {
   "cell_type": "code",
   "execution_count": 3,
   "id": "43b6455c",
   "metadata": {},
   "outputs": [
    {
     "name": "stdout",
     "output_type": "stream",
     "text": [
      "Satyam 102\n",
      "Mayank 103\n",
      "Emp class called\n"
     ]
    }
   ],
   "source": [
    "### Q31. Explain Inheritance in Python with an example?\n",
    "# Ans:Inheritance relationship defines the classes that inherit from other classes as derived, subclass, or sub-type classes.\n",
    "# Base class remains to be the source from which a subclass inherits.\n",
    "\n",
    "# A Python program to demonstrate inheritance\n",
    "\n",
    "class Person(object):\n",
    "\n",
    "    # Constructor\n",
    "    def __init__(self, name, id):\n",
    "        self.name = name\n",
    "        self.id = id\n",
    "\n",
    "    # To check if this person is an employee\n",
    "    def Display(self):\n",
    "        print(self.name, self.id)\n",
    "\n",
    "\n",
    "# Driver code\n",
    "emp = Person(\"Satyam\", 102) # An Object of Person\n",
    "emp.Display()\n",
    "\n",
    "class Emp(Person):\n",
    "\n",
    "    def Print(self):\n",
    "        print(\"Emp class called\")\n",
    "\t\n",
    "Emp_details = Emp(\"Mayank\", 103)\n",
    "\n",
    "# calling parent class function\n",
    "Emp_details.Display()\n",
    "\n",
    "# Calling child class function\n",
    "Emp_details.Print()\n",
    "\n"
   ]
  },
  {
   "cell_type": "code",
   "execution_count": 5,
   "id": "22c3838f",
   "metadata": {},
   "outputs": [
    {
     "name": "stdout",
     "output_type": "stream",
     "text": [
      "Base1\n",
      "Base2\n",
      "Derived\n",
      "Aman Yadav\n"
     ]
    }
   ],
   "source": [
    "# Q32. Suppose class C inherits from classes A and B as class C(A,B).Classes A and B both have their own versions of method func(). If we call func() from an object of class C, which version gets invoked?\n",
    "# Ans:\n",
    "# Python example to show the working of multiple\n",
    "# inheritance\n",
    "\n",
    "\n",
    "class Base1(object):\n",
    "\tdef __init__(self):\n",
    "\t\tself.str1 = \"Aman\"\n",
    "\t\tprint(\"Base1\")\n",
    "\n",
    "\n",
    "class Base2(object):\n",
    "\tdef __init__(self):\n",
    "\t\tself.str2 = \"Yadav\"\n",
    "\t\tprint(\"Base2\")\n",
    "\n",
    "\n",
    "class Derived(Base1, Base2):\n",
    "\tdef __init__(self):\n",
    "\n",
    "\t\t# Calling constructors of Base1\n",
    "\t\t# and Base2 classes\n",
    "\t\tBase1.__init__(self)\n",
    "\t\tBase2.__init__(self)\n",
    "\t\tprint(\"Derived\")\n",
    "\n",
    "\tdef printStrs(self):\n",
    "\t\tprint(self.str1, self.str2)\n",
    "\n",
    "\n",
    "ob = Derived()\n",
    "ob.printStrs()\n"
   ]
  },
  {
   "cell_type": "markdown",
   "id": "46dc69b5",
   "metadata": {},
   "source": [
    "### Q33. Which methods/functions do we use to determine the type of instance and inheritance?\n",
    "Ans: Use isinstance() to check an instance's type: isinstance(obj, int) will be True only if obj.__class__ is int or some class derived from int .\n",
    "Use issubclass() to check class inheritance: issubclass(bool, int) is True since bool is a subclass of int "
   ]
  },
  {
   "cell_type": "markdown",
   "id": "49280f3c",
   "metadata": {},
   "source": [
    "### Q34.Explain the use of the 'nonlocal' keyword in Python.\n",
    "Ans: The nonlocal keyword is used to work with variables inside nested functions, where the variable should not belong to the inner function. Use the keyword nonlocal to declare that the variable is not local."
   ]
  },
  {
   "cell_type": "markdown",
   "id": "7a6fe7e1",
   "metadata": {},
   "source": [
    "### Q35. What is the global keyword?\n",
    "Ans: The global keyword is used to create global variables from a no-global scope, e.g. inside a function. Which is also having outside scope i.e outside the function."
   ]
  }
 ],
 "metadata": {
  "kernelspec": {
   "display_name": "Python 3 (ipykernel)",
   "language": "python",
   "name": "python3"
  },
  "language_info": {
   "codemirror_mode": {
    "name": "ipython",
    "version": 3
   },
   "file_extension": ".py",
   "mimetype": "text/x-python",
   "name": "python",
   "nbconvert_exporter": "python",
   "pygments_lexer": "ipython3",
   "version": "3.10.4"
  }
 },
 "nbformat": 4,
 "nbformat_minor": 5
}
